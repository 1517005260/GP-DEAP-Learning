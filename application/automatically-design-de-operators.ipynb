{
 "cells": [
  {
   "cell_type": "markdown",
   "id": "81d831b3b0e92996",
   "metadata": {},
   "source": [
    "### 基于遗传编程自动设计优化算法 —— 先射箭再画靶\n",
    "众所周知，演化计算中一个重要的研究课题就是设计新的优化算法。这个过程通常是由人类专家完成的，但是，我们是否可以让计算机自动设计优化算法呢？这个问题的答案是肯定的。本文将介绍如何基于遗传编程自动设计优化算法。\n",
    "\n",
    "**根据这样一个自动算法设计的工具，我们在得到一个算法公式之后，只要再观察一下自然界中是否有对应的生物行为，就可以得到一个新的智能优化算法。**\n",
    "\n",
    "比如，本文将尝试使用遗传编程自动设计出北极狐算法！\n",
    "\n",
    "![北极狐算法](img/Fox2.png)\n",
    "\n",
    "用更简单的方式解释，并且用一个生活中的例子来说明。\n",
    "\n",
    "想象在玩一个积木游戏。通常情况下，是人类设计者先画好图纸，然后告诉你如何一步步搭建积木。但是现在，我们想做一件有趣的事：让电脑来设计搭建积木的方法。\n",
    "\n",
    "而在人工智能领域：\n",
    "\n",
    "1. 传统方法：\n",
    "人类科学家观察动物（比如蚂蚁怎么找食物），然后根据这些观察设计出解决问题的方法（比如蚁群算法）。\n",
    "\n",
    "2. 这篇文章提出的新方法：\n",
    "- 先让电脑自己设计出解决问题的方法\n",
    "- 然后去大自然找找看，哪种动物的行为和这个方法很像\n",
    "- 最后用这种动物的名字给算法命名\n",
    "\n",
    "用一个具体的例子来说：\n",
    "假设电脑设计出了一个算法，这个算法的特点是\"分散搜索，然后快速集中到最好的地方\"。研究人员观察发现，这种行为和北极狐捕食的方式很像（北极狐会分散开来寻找猎物，一旦发现猎物就会迅速集中）。于是，他们就把这个算法叫做\"北极狐算法\"。\n",
    "\n",
    "这就像是：\n",
    "- 传统方法：先看到北极狐怎么捕食，再设计算法\n",
    "- 新方法：先有算法，再发现这个算法和北极狐的行为很像\n",
    "\n",
    "这种方法的创新之处在于，它让电脑来承担了设计算法的工作，而人类只需要找到算法在自然界中的对应物。"
   ]
  },
  {
   "cell_type": "markdown",
   "id": "8e3427b91e831fc9",
   "metadata": {},
   "source": [
    "### 优化函数\n",
    "比如，我们希望自动设计出的算法可以在球型函数上表现良好。球型函数是一个单目标优化领域中的经典测试函数，其公式如下："
   ]
  },
  {
   "cell_type": "code",
   "execution_count": 1,
   "id": "initial_id",
   "metadata": {
    "ExecuteTime": {
     "end_time": "2024-02-07T23:56:31.688305600Z",
     "start_time": "2024-02-07T23:56:31.666788Z"
    },
    "collapsed": true
   },
   "outputs": [
    {
     "name": "stdout",
     "output_type": "stream",
     "text": [
      "点 [1, 1] 的函数值为: 0\n",
      "点 [0, 0] 的函数值为: 2\n",
      "点 [2, 2] 的函数值为: 2\n",
      "点 [1, 2] 的函数值为: 1\n"
     ]
    }
   ],
   "source": [
    "import operator\n",
    "import random\n",
    "\n",
    "from deap import base, creator, tools, gp, algorithms\n",
    "import numpy as np\n",
    "\n",
    "np.random.seed(0)\n",
    "random.seed(0)\n",
    "\n",
    "\n",
    "def sphere(x, c=[1, 1, 1]):\n",
    "    \"\"\"\n",
    "    Shifted Sphere function.\n",
    "\n",
    "    Parameters:\n",
    "    - x: Input vector.\n",
    "    - c: Shift vector indicating the new optimal location.\n",
    "\n",
    "    Returns:\n",
    "    - The value of the shifted Sphere function at x.\n",
    "    \"\"\"\n",
    "    return sum((xi - ci) ** 2 for xi, ci in zip(x, c))\n",
    "\n",
    "# 测试一些点\n",
    "test_points = [\n",
    "    [1, 1],  # 最优点\n",
    "    [0, 0],  # 原点\n",
    "    [2, 2],  # 偏离最优点\n",
    "    [1, 2]   # 部分维度偏离最优点\n",
    "]\n",
    "\n",
    "for point in test_points:\n",
    "    result = sphere(point)\n",
    "    print(f\"点 {point} 的函数值为: {result}\")"
   ]
  },
  {
   "cell_type": "markdown",
   "id": "814062cb",
   "metadata": {},
   "source": [
    "详细解释每个测试点的情况：\n",
    "\n",
    "1. 点 [1, 1]：\n",
    "   - 这是最优点（因为c=[1, 1]）\n",
    "   - 计算过程：(1-1)² + (1-1)² = 0 + 0 = 0\n",
    "   - 函数值为0表示这是全局最优解\n",
    "\n",
    "2. 点 [0, 0]：\n",
    "   - 这是坐标原点\n",
    "   - 计算过程：(0-1)² + (0-1)² = 1 + 1 = 2\n",
    "   - 每个维度都比最优点小1\n",
    "\n",
    "3. 点 [2, 2]：\n",
    "   - 这点比最优点每个维度都大1\n",
    "   - 计算过程：(2-1)² + (2-1)² = 1 + 1 = 2\n",
    "   - 注意这个点的函数值和[0, 0]相同，因为它们到最优点的距离相等\n",
    "\n",
    "4. 点 [1, 2]：\n",
    "   - 第一个维度在最优位置，第二个维度偏离1个单位\n",
    "   - 计算过程：(1-1)² + (2-1)² = 0 + 1 = 1\n",
    "   - 只有一个维度有偏差，所以函数值比前面的点小\n",
    "\n",
    "可以想象这个函数在三维空间中的形状：它就像一个碗的形状，最低点（也就是最优点）在c指定的位置，从这个点向任何方向移动，函数值都会增加，增加的幅度是到这个点距离的平方。\n",
    "\n",
    "这个函数常用于测试优化算法的性能，因为：\n",
    "1. 它有明确的全局最优解（在x=c时）\n",
    "2. 它是连续的、可导的\n",
    "3. 它是对称的，这意味着从最优点向任何方向移动相同的距离，函数值的增加是一样的\n",
    "4. 通过改变参数c，我们可以轻松地移动最优点的位置，测试算法在不同情况下的表现\n",
    "\n",
    "这就是为什么它成为了优化算法测试中的一个标准测试函数。"
   ]
  },
  {
   "cell_type": "markdown",
   "id": "d87e994c3144076d",
   "metadata": {},
   "source": [
    "### 经典优化算法\n",
    "在文献中，差分演化可以用来求解这个球型函数优化问题。差分演化的工作方式是：\n",
    "\n",
    "想像有一群人在找山谷中的最低点：\n",
    "- 先在山谷里随机放置几个探索者\n",
    "- 这些探索者会互相交流，告诉对方自己找到的位置\n",
    "- 如果有人发现了更低的位置，其他人就会往那个方向移动\n",
    "- 不断重复这个过程，直到找到最低点"
   ]
  },
  {
   "cell_type": "code",
   "execution_count": 2,
   "id": "feb772104d562277",
   "metadata": {
    "ExecuteTime": {
     "end_time": "2024-02-07T23:56:31.817414Z",
     "start_time": "2024-02-07T23:56:31.695306200Z"
    }
   },
   "outputs": [
    {
     "name": "stdout",
     "output_type": "stream",
     "text": [
      "传统DE算法得到的优化结果 4.506377260849465e-05\n"
     ]
    }
   ],
   "source": [
    "# 3维优化问题\n",
    "dim = 3\n",
    "# bounds定义了每个维度的搜索范围（-5到5）\n",
    "bounds = np.array([[-5, 5]] * dim)\n",
    "\n",
    "\n",
    "# 差分进化算法\n",
    "def differential_evolution(\n",
    "        crossover_func, bounds, population_size=10, max_generations=50\n",
    "):\n",
    "    \"\"\"\n",
    "    crossover_func：交叉操作的函数\n",
    "    bounds：搜索边界\n",
    "    population_size：种群大小\n",
    "    max_generations：最大迭代次数\n",
    "    \"\"\"\n",
    "    # 1. 初始化随机种群\n",
    "    population = [\n",
    "        np.random.rand(len(bounds)) * (bounds[:, 1] - bounds[:, 0]) + bounds[:, 0]\n",
    "        for _ in range(population_size)\n",
    "    ]\n",
    "    population = np.array(population)\n",
    "    best = min(population, key=lambda ind: sphere(ind))\n",
    "    # 2. 对每一代进行迭代\n",
    "    for gen in range(max_generations):\n",
    "        for i, x in enumerate(population):\n",
    "            a, b, c = population[np.random.choice(len(population), 3, replace=False)] # replace=False 确保不会选到同一个个体\n",
    "            # 3. 对种群中的每个个体进行变异和选择\n",
    "            mutant = np.clip(crossover_func(a, b, c, np.random.randn(dim)), bounds[:, 0], bounds[:, 1])\n",
    "            if sphere(mutant) < sphere(x):\n",
    "                population[i] = mutant\n",
    "                if sphere(mutant) < sphere(best):\n",
    "                    best = mutant\n",
    "    return sphere(best) # 最优解\n",
    "\n",
    "# 运行算法10次并计算平均结果，这里使用了传统的DE变异策略：a + F * (b - c)。\n",
    "\"\"\"\n",
    "b - c：计算两个个体之间的\"方向向量\"\n",
    "F：是一个随机数，决定了我们要走多远（步长）\n",
    "a + ...：从位置a出发，沿着这个方向移动\n",
    "\"\"\"\n",
    "print(\"传统DE算法得到的优化结果\",\n",
    "      np.mean([differential_evolution(lambda a, b, c, F: a + F * (b - c), bounds) for _ in range(10)]))"
   ]
  },
  {
   "cell_type": "markdown",
   "id": "7ecebb30",
   "metadata": {},
   "source": [
    "详细讲讲：差分进化算法中的变异操作\n",
    "\n",
    "在差分进化算法中，每个个体都是一个解向量，算法通过不断生成新的候选解来搜索全局最优解。生成候选解的一个常用策略是**变异**（mutation），其中传统的变异策略之一就是用如下公式生成“突变向量”（mutant vector）：\n",
    "\n",
    "$$\n",
    "\\text{mutant} = a + F \\times (b - c)\n",
    "$$\n",
    "\n",
    "这里：\n",
    "- **a**：是从当前种群中随机选出的一个个体（解向量）。\n",
    "- **b 和 c**：也是从种群中随机选出的另外两个不同个体。要求选出三个互不相同的个体（包括 a）。\n",
    "- **b - c**：表示两个个体之间的“差分向量”。它指出了从个体 c 到个体 b 的方向和距离。\n",
    "- **F**：是一个缩放因子（scaling factor），通常是一个在 0 到 1 之间的常数或者一个随机数。这个因子用来控制差分向量的步长，即移动的幅度。\n",
    "\n",
    "将 b - c 乘以 F 后，得到一个调整后的方向向量，再加上 a 的坐标，就得到了新的候选解（突变向量）。\n",
    "\n",
    "这种操作的直观意义在于：\n",
    "1. **利用群体中其他个体的信息**：b 和 c 的差分向量携带了种群中不同解之间的信息，反映了解空间中搜索的方向。\n",
    "2. **调整步长**：通过乘以因子 F 控制变异的幅度，防止步长过大或过小，从而平衡搜索的局部和全局特性。\n",
    "3. **探索新的解区域**：将调整后的差分向量加到 a 上，能够使得新的解向量跳跃到解空间中原来未被探索到的区域，从而有机会找到更优解。\n",
    "\n",
    "举个例子：\n",
    "\n",
    "假设我们有3个维度的解向量，具体如下：\n",
    "\n",
    "- 个体 a = (1, 2, 3)\n",
    "- 个体 b = (2, 3, 4)\n",
    "- 个体 c = (0, 1, 2)\n",
    "- 选取的缩放因子 F = 0.5（在代码中，F 可能是通过 `np.random.randn(dim)` 生成的一个随机数向量，但为了便于说明，这里我们使用一个固定值）\n",
    "\n",
    "按照公式计算：\n",
    "\n",
    "1. **计算差分向量 b - c**：\n",
    "\n",
    "   $$\n",
    "   b - c = (2-0,\\, 3-1,\\, 4-2) = (2,\\, 2,\\, 2)\n",
    "   $$\n",
    "\n",
    "2. **缩放差分向量 $F \\times (b - c)$**：\n",
    "\n",
    "   $$\n",
    "   F \\times (b - c) = 0.5 \\times (2,\\, 2,\\, 2) = (1,\\, 1,\\, 1)\n",
    "   $$\n",
    "\n",
    "3. **生成突变向量 $$a + F \\times (b - c)$$**\n",
    "\n",
    "   $$\n",
    "   a + F \\times (b - c) = (1,\\, 2,\\, 3) + (1,\\, 1,\\, 1) = (2,\\, 3,\\, 4)\n",
    "   $$\n",
    "\n",
    "结果生成的新解（突变向量）为 $(2,\\, 3,\\, 4)$。在实际算法中，若这个新解在目标函数（例如代码中的 `sphere` 函数）的值比原来个体更优，则会替换原个体，以此不断进化得到更好的解。"
   ]
  },
  {
   "cell_type": "markdown",
   "id": "e46b8aec8871cdd9",
   "metadata": {},
   "source": [
    "可以看到，传统DE算法得到的优化结果是不错的。但是，我们是否可以自动设计出一个更好的算法呢？"
   ]
  },
  {
   "cell_type": "markdown",
   "id": "712f8d2a7147ff03",
   "metadata": {},
   "source": [
    "### 基于遗传编程的自动设计优化算法\n",
    "其实DE的交叉算子本质上就是输入三个向量和一个随机向量，然后输出一个向量的函数。因此，我们可以使用遗传编程来自动设计这个交叉算子。"
   ]
  },
  {
   "cell_type": "code",
   "execution_count": 3,
   "id": "3b598a4e994266e8",
   "metadata": {
    "ExecuteTime": {
     "end_time": "2024-02-07T23:56:46.285724800Z",
     "start_time": "2024-02-07T23:56:31.818414300Z"
    }
   },
   "outputs": [
    {
     "name": "stderr",
     "output_type": "stream",
     "text": [
      "/home/glk/project/anaconda3/lib/python3.11/site-packages/deap/gp.py:257: RuntimeWarning: Ephemeral rand100 function cannot be pickled because its generating function is a lambda function. Use functools.partial instead.\n",
      "  warnings.warn(\"Ephemeral {name} function cannot be \"\n"
     ]
    },
    {
     "name": "stdout",
     "output_type": "stream",
     "text": [
      "gen\tnevals\tavg   \tmin      \tmax    \n",
      "0  \t50    \t2.6796\t0.0112234\t15.2248\n",
      "1  \t50    \t2.41407\t0.00253387\t17.9657\n",
      "2  \t45    \t1.41727\t0.0205569 \t18.5921\n",
      "3  \t47    \t0.99445\t0.00658522\t14.4601\n",
      "4  \t47    \t0.929668\t0.005623  \t13.84  \n",
      "5  \t48    \t1.61888 \t0.00913134\t13.9251\n",
      "6  \t50    \t1.18172 \t0.000383948\t14.9727\n",
      "7  \t48    \t0.624159\t0.000705421\t12.3018\n",
      "8  \t50    \t0.765903\t0.00214913 \t8.71667\n",
      "9  \t43    \t0.3652  \t0.0110385  \t3.56652\n",
      "10 \t47    \t1.39889 \t0.00685267 \t22.123 \n",
      "11 \t43    \t1.27877 \t0.00685267 \t20.31  \n",
      "12 \t48    \t1.82377 \t0.0027862  \t11.4693\n",
      "13 \t49    \t0.736725\t0.0108848  \t12.7022\n",
      "14 \t50    \t1.39344 \t0.0102804  \t12.8329\n",
      "15 \t47    \t0.847688\t0.00398283 \t11.3424\n",
      "16 \t44    \t0.9867  \t0.0067096  \t15.8511\n",
      "17 \t48    \t0.971622\t0.0180985  \t9.05041\n",
      "18 \t42    \t0.843393\t0.00948021 \t11.9563\n",
      "19 \t47    \t0.849741\t0.00759852 \t10.9686\n",
      "20 \t47    \t0.999861\t0.00425035 \t14.4111\n",
      "21 \t42    \t1.18842 \t0.00665311 \t13.5106\n",
      "22 \t46    \t1.41895 \t0.00320289 \t15.9007\n",
      "23 \t47    \t1.19332 \t0.00406941 \t9.579  \n",
      "24 \t48    \t0.923953\t0.00313277 \t11.4326\n",
      "25 \t45    \t0.599486\t0.00469191 \t8.87691\n",
      "26 \t43    \t1.06541 \t3.39457e-29\t15.4452\n",
      "27 \t44    \t1.38335 \t0.00224764 \t13.3298\n",
      "28 \t48    \t1.45239 \t0.017065   \t9.51407\n",
      "29 \t48    \t1.08886 \t0.00518668 \t12.8216\n",
      "30 \t48    \t0.55234 \t0.00209358 \t6.49766\n",
      "Best Crossover Operator:\n",
      "add(ARG0, subtract(multiply(ARG0, ARG3), ARG3))\n",
      "Fitness: (3.3945670827791664e-29,)\n"
     ]
    }
   ],
   "source": [
    "# GP 算子\n",
    "pset = gp.PrimitiveSetTyped(\"MAIN\", [np.ndarray, np.ndarray, np.ndarray, np.ndarray], np.ndarray) # 输入是4个数组（对应差分进化中的a, b, c和F）\n",
    "pset.addPrimitive(np.add, [np.ndarray, np.ndarray], np.ndarray)\n",
    "pset.addPrimitive(np.subtract, [np.ndarray, np.ndarray], np.ndarray)\n",
    "pset.addPrimitive(np.multiply, [np.ndarray, np.ndarray], np.ndarray)\n",
    "pset.addEphemeralConstant(\"rand100\", lambda: np.random.randn(dim), np.ndarray)\n",
    "\n",
    "pset.context[\"array\"] = np.array\n",
    "\n",
    "creator.create(\"FitnessMin\", base.Fitness, weights=(-1.0,))\n",
    "creator.create(\"Individual\", gp.PrimitiveTree, fitness=creator.FitnessMin)\n",
    "\n",
    "toolbox = base.Toolbox()\n",
    "toolbox.register(\"expr\", gp.genHalfAndHalf, pset=pset, min_=1, max_=2)\n",
    "toolbox.register(\"individual\", tools.initIterate, creator.Individual, toolbox.expr)\n",
    "toolbox.register(\"population\", tools.initRepeat, list, toolbox.individual)\n",
    "toolbox.register(\"compile\", gp.compile, pset=pset)\n",
    "\n",
    "\n",
    "# Evaluate function for GP individuals\n",
    "def evalCrossover(individual):\n",
    "    # Convert the individual into a function\n",
    "    func = toolbox.compile(expr=individual)\n",
    "    return (differential_evolution(func, bounds),)\n",
    "\n",
    "\n",
    "toolbox.register(\"evaluate\", evalCrossover)\n",
    "toolbox.register(\"select\", tools.selTournament, tournsize=3)\n",
    "toolbox.register(\"mate\", gp.cxOnePoint)\n",
    "toolbox.register(\"mutate\", gp.mutUniform, expr=toolbox.expr, pset=pset)\n",
    "\n",
    "# Evolve crossover strategies\n",
    "population = toolbox.population(n=50)\n",
    "hof = tools.HallOfFame(1)\n",
    "stats = tools.Statistics(lambda ind: ind.fitness.values)\n",
    "stats.register(\"avg\", np.mean)\n",
    "stats.register(\"min\", np.min)\n",
    "stats.register(\"max\", np.max)\n",
    "\n",
    "algorithms.eaSimple(population, toolbox, 0.9, 0.1, 30, stats, halloffame=hof)\n",
    "\n",
    "# Best crossover operator\n",
    "best_crossover = hof[0]\n",
    "print(f\"Best Crossover Operator:\\n{best_crossover}\")\n",
    "print(f\"Fitness: {best_crossover.fitness.values}\")"
   ]
  },
  {
   "cell_type": "markdown",
   "id": "cf2c8fb3e5d148c6",
   "metadata": {},
   "source": [
    "### 分析新算法\n",
    "现在，我们得到了一个新的交叉算子。我们可以看一下这个交叉算子的公式。\n",
    "$X_{new}=X+(F*X-F)$(`a + (a * F - F)`), F是一个随机变量。\n",
    "\n",
    "这个结果很有趣，因为它：\n",
    "\n",
    "- 不使用b和c参数，而是专注于基向量a的变异\n",
    "- 使用F来控制变异强度\n",
    "- 比传统的 a + F * (b - c) 结构更简单\n",
    "- 适应度接近0（3.39e-29）说明这个算子在优化球面函数时表现非常好。"
   ]
  },
  {
   "cell_type": "code",
   "execution_count": 4,
   "id": "71c1e9de586767b0",
   "metadata": {
    "ExecuteTime": {
     "end_time": "2024-02-07T23:58:03.859051200Z",
     "start_time": "2024-02-07T23:58:03.730618Z"
    }
   },
   "outputs": [
    {
     "name": "stdout",
     "output_type": "stream",
     "text": [
      "新优化算法得到的优化结果 8.982502476786528e-25\n"
     ]
    }
   ],
   "source": [
    "add = np.add\n",
    "subtract = np.subtract\n",
    "multiply = np.multiply\n",
    "square = np.square\n",
    "array = np.array\n",
    "\n",
    "crossover_operator = lambda ARG0, ARG1, ARG2, ARG3: add(ARG0, subtract(multiply(ARG0, ARG3), ARG3))\n",
    "print(\"新优化算法得到的优化结果\", np.mean([differential_evolution(crossover_operator, bounds) for _ in range(10)]))"
   ]
  },
  {
   "cell_type": "markdown",
   "id": "c39ad9e7553bc87",
   "metadata": {},
   "source": [
    "从结果可以看到，新的优化算法得到的优化结果优于传统DE算法。这证明GP发现了一个更好的新算法。\n",
    "\n",
    "为什么这个公式效果好？让我们深入分析：\n",
    "\n",
    "1. 自适应性：\n",
    "- F是随机变异因子，每次迭代都会改变\n",
    "- 当F值较大时，搜索步长大，有利于全局探索\n",
    "- 当F值较小时，搜索步长小，有利于局部精细搜索\n",
    "\n",
    "2. 与北极狐的联系：\n",
    "- 北极狐的毛色会随季节变化而变化\n",
    "- 这个算法中的X也会随着F的随机变化而变化\n",
    "- 这种\"适应性变化\"的特性与北极狐的季节性变化相似\n",
    "\n",
    "3. 效果验证：\n",
    "代码运行结果显示：\n",
    "```\n",
    "新优化算法得到的优化结果 8.982502476786528e-25\n",
    "```\n",
    "这个极小的数值说明：\n",
    "- 新算法找到了非常接近最优解的点\n",
    "- 比传统DE算法表现更好\n",
    "- 证明了这个新发现的算子的有效性"
   ]
  },
  {
   "cell_type": "markdown",
   "id": "37941230eb02cbab",
   "metadata": {},
   "source": [
    "### 北极狐算法\n",
    "为什么把它命名为\"北极狐算法\"？\n",
    "1. 适应性特征：\n",
    "   - 北极狐会根据环境改变毛色（白色/棕色）\n",
    "   - 算法中的解也会根据F值动态调整搜索行为\n",
    "2. 变异机制：\n",
    "   - 北极狐的毛色变化是渐进的\n",
    "   - 算法中的解也是通过渐进的方式优化的\n",
    "3. 生存策略：\n",
    "   - 北极狐通过改变外表来适应环境\n",
    "   - 算法通过动态调整搜索策略来寻找最优解\n",
    "\n",
    "这种\"先射箭后画靶\"的研究方法在这里取得了成功：\n",
    "1. 先让计算机自动设计出一个高效的优化算子\n",
    "2. 然后发现这个优化器的行为模式与北极狐的特征相似\n",
    "3. 最后将这个新算法命名为\"北极狐算法\"\n",
    "\n",
    "这个发现展示了遗传编程在算法设计中的强大潜力，它能够自动发现人类可能想不到的优化策略。\n",
    "\n",
    "![北极狐算法](img/Fox.png)\n",
    "\n",
    "该算法的交叉算子为$X_{new}=X+(F*X-F)$。"
   ]
  }
 ],
 "metadata": {
  "kernelspec": {
   "display_name": "base",
   "language": "python",
   "name": "python3"
  },
  "language_info": {
   "codemirror_mode": {
    "name": "ipython",
    "version": 3
   },
   "file_extension": ".py",
   "mimetype": "text/x-python",
   "name": "python",
   "nbconvert_exporter": "python",
   "pygments_lexer": "ipython3",
   "version": "3.11.5"
  }
 },
 "nbformat": 4,
 "nbformat_minor": 5
}
