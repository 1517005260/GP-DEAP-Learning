{
 "cells": [
  {
   "cell_type": "markdown",
   "id": "ff6050dfa4dc1b6",
   "metadata": {},
   "source": [
    "## 基于多目标GP的符号回归\n",
    "\n",
    "之前都是单目标的回归问题，我们仅关注最优解，但不关注最优解的复杂度。\n",
    "\n",
    "多目标GP是指使用多个目标函数来评估GP树的适应度。在符号回归问题中，通常使用均方误差（MSE）作为目标函数。然而，MSE并不能很好地反映模型的复杂度，因此，我们还可以使用树的大小作为目标函数。这样，就可以得到更为精简的模型。"
   ]
  },
  {
   "cell_type": "code",
   "execution_count": 1,
   "id": "59cfefc0467c74ad",
   "metadata": {
    "ExecuteTime": {
     "end_time": "2023-11-10T08:50:31.317854700Z",
     "start_time": "2023-11-10T08:50:31.272249300Z"
    }
   },
   "outputs": [],
   "source": [
    "import math\n",
    "import operator\n",
    "import random\n",
    "from deap import base, creator, tools, gp, algorithms\n",
    "\n",
    "# 定义评估函数，包含两个目标：均方误差和树的大小\n",
    "def evalSymbReg(individual,pset):\n",
    "    # 编译GP树为函数\n",
    "    func = gp.compile(expr=individual, pset=pset)\n",
    "    # 计算均方误差（Mean Square Error，MSE）\n",
    "    mse = ((func(x) - x**2)**2 for x in range(-10, 10))\n",
    "    # 计算GP树的大小\n",
    "    size = len(individual)\n",
    "    return math.fsum(mse), size\n",
    "\n",
    "# 修改适应度函数，包含两个权重：MSE和树的大小。MSE是最小化，树的大小也是最小化\n",
    "# 适应度就是根据评估函数的结论得出是否适应\n",
    "creator.create(\"FitnessMulti\", base.Fitness, weights=(-1.0, -1.0))\n",
    "creator.create(\"Individual\", gp.PrimitiveTree, fitness=creator.FitnessMulti)"
   ]
  },
  {
   "cell_type": "markdown",
   "id": "956e01e17271daa6",
   "metadata": {},
   "source": [
    "### 遗传算子\n",
    "遗传算子基本不需要修改。由于是多目标优化问题，所以选择算子需要使用NSGA2（Non-dominated Sorting Genetic Algorithm II）。\n",
    "NSGA2算法的基本思想是，首先对种群中的个体进行非支配排序，然后根据非支配排序的结果计算拥挤度距离，最后根据非支配排序和拥挤度距离两个指标对个体进行排序。"
   ]
  },
  {
   "cell_type": "code",
   "execution_count": 2,
   "id": "851794d4d36e3681",
   "metadata": {
    "ExecuteTime": {
     "end_time": "2023-11-10T08:50:31.317854700Z",
     "start_time": "2023-11-10T08:50:31.278882Z"
    }
   },
   "outputs": [
    {
     "name": "stderr",
     "output_type": "stream",
     "text": [
      "/home/glk/project/anaconda3/lib/python3.11/site-packages/deap/gp.py:257: RuntimeWarning: Ephemeral rand101 function cannot be pickled because its generating function is a lambda function. Use functools.partial instead.\n",
      "  warnings.warn(\"Ephemeral {name} function cannot be \"\n"
     ]
    }
   ],
   "source": [
    "import random\n",
    "\n",
    "# 定义函数集合和终端集合\n",
    "pset = gp.PrimitiveSet(\"MAIN\", arity=1)\n",
    "pset.addPrimitive(operator.add, 2)\n",
    "pset.addPrimitive(operator.sub, 2)\n",
    "pset.addPrimitive(operator.mul, 2)\n",
    "pset.addPrimitive(operator.neg, 1)\n",
    "pset.addEphemeralConstant(\"rand101\", lambda: random.randint(-1, 1))\n",
    "pset.renameArguments(ARG0='x')\n",
    "\n",
    "# 定义遗传编程操作\n",
    "toolbox = base.Toolbox()\n",
    "toolbox.register(\"expr\", gp.genHalfAndHalf, pset=pset, min_=1, max_=2) # 树高在1-2之间\n",
    "toolbox.register(\"individual\", tools.initIterate, creator.Individual, toolbox.expr)\n",
    "toolbox.register(\"population\", tools.initRepeat, list, toolbox.individual)\n",
    "toolbox.register(\"compile\", gp.compile, pset=pset)\n",
    "toolbox.register(\"evaluate\", evalSymbReg, pset=pset)\n",
    "toolbox.register(\"select\", tools.selNSGA2) # NSGA-II多目标优化算法\n",
    "toolbox.register(\"mate\", gp.cxOnePoint) # 单点交叉\n",
    "toolbox.register(\"mutate\", gp.mutUniform, expr=toolbox.expr, pset=pset) # 使用均匀变异"
   ]
  },
  {
   "cell_type": "markdown",
   "id": "479ffa1c",
   "metadata": {},
   "source": [
    "## 理解：genHalfAndHalf，半全法(half-and-half)\n",
    "\n",
    "想象我们要构建一个数学表达式，我们有这些构建块：\n",
    "\n",
    "函数集：\n",
    "- 加法(+)\n",
    "- 乘法(*)\n",
    "终端集：\n",
    "- 变量x\n",
    "- 常数1\n",
    "\n",
    "看看两种方法如何构建深度为2的树：\n",
    "\n",
    "- FULL方法（全生成法）：\n",
    "```\n",
    "第1步: 从根节点开始，必须选择一个函数(因为还没到最大深度)\n",
    "        +\n",
    "第2步: 因为深度还是1，两个子节点也必须是函数\n",
    "        +\n",
    "      /   \\\n",
    "     *     *\n",
    "第3步: 现在到达深度2(最大深度)，必须选择终端节点\n",
    "        +\n",
    "      /   \\\n",
    "     *     *\n",
    "    / \\   / \\\n",
    "   x   1 x   x\n",
    "```\n",
    "最终表达式：(x * 1) + (x * x)\n",
    "\n",
    "- GROW方法（生长法）：\n",
    "```\n",
    "第1步: 从根节点开始，随机选择一个函数\n",
    "        *\n",
    "第2步: 可以自由选择函数或终端，比如左边选终端，右边选函数\n",
    "        *\n",
    "      /   \\\n",
    "     x     +\n",
    "第3步: 右边分支继续生长，选择终端\n",
    "        *\n",
    "      /   \\\n",
    "     x     +\n",
    "          / \\\n",
    "         1   x\n",
    "```\n",
    "最终表达式：x * (1 + x)\n",
    "\n",
    "half-and-half的工作方式是：\n",
    "假设我们要生成4个初始树，half-and-half会：\n",
    "- 用FULL方法生成2个：\n",
    "  1. (x * 1) + (x * x)\n",
    "  2. (x + 1) * (1 + x)\n",
    "- 用GROW方法生成2个：\n",
    "  1. x * (1 + x)\n",
    "  2. x + 1\n",
    "\n",
    "这就像是让两个不同的\"建筑师\"来设计树：\n",
    "- FULL建筑师很规矩，一定要把每个分支都建到最大高度\n",
    "- GROW建筑师比较随意，可能提前停止某些分支的生长\n",
    "\n",
    "这种多样性对进化过程很重要，因为：\n",
    "- 有的问题可能需要完整的复杂表达式（FULL方法提供）\n",
    "- 有的问题可能需要简单的表达式（GROW方法提供）\n",
    "- 结合两种方法，我们能得到更丰富的初始种群，增加找到好解的机会\n",
    "\n",
    "## 理解：tools.selNSGA2，[NSGA-II多目标优化算法](./NSGA-II.md)\n",
    "\n",
    "## 理解单点交叉与均匀变异\n",
    "\n",
    "![单点交叉与均匀变异](./img/单点交叉与均匀变异.jpg)"
   ]
  },
  {
   "cell_type": "markdown",
   "id": "62f30d17704db709",
   "metadata": {},
   "source": [
    "### 算法模块\n",
    "DEAP算法包提供了eaMuPlusLambda函数，可以比较方便地使用NSGA2的环境选择算子。  \n",
    "理想情况下，最好还是自行实现演化函数，这样才能完整地使用NSGA-II算法中的锦标赛选择算子。  \n",
    "NSGA-II算法中的锦标赛选择算子是指，首先从种群中随机选择两个个体，然后根据非支配排序和拥挤度距离两个指标对两个个体进行排序，最后选择排名较高的个体作为父代。简单起见，我们忽略了锦标赛选择算子。"
   ]
  },
  {
   "cell_type": "code",
   "execution_count": 3,
   "id": "515b587d4f8876ea",
   "metadata": {
    "ExecuteTime": {
     "end_time": "2023-11-10T08:50:31.364942900Z",
     "start_time": "2023-11-10T08:50:31.284352200Z"
    }
   },
   "outputs": [
    {
     "name": "stdout",
     "output_type": "stream",
     "text": [
      "   \t      \t                    fitness                    \t                      size                     \n",
      "   \t      \t-----------------------------------------------\t-----------------------------------------------\n",
      "gen\tnevals\tavg    \tgen\tmax   \tmin\tnevals\tstd    \tavg \tgen\tmax\tmin\tnevals\tstd    \n",
      "0  \t50    \t42213.5\t0  \t160004\t0  \t50    \t18887.1\t3.78\t0  \t7  \t2  \t50    \t1.68867\n",
      "1  \t50    \t36200.5\t1  \t42026 \t0  \t50    \t10719.8\t2.94\t1  \t7  \t2  \t50    \t1.33282\n",
      "2  \t50    \t33018.2\t2  \t39346 \t0  \t50    \t14411.5\t2.22\t2  \t5  \t2  \t50    \t0.54   \n",
      "3  \t50    \t37762.6\t3  \t39336 \t0  \t50    \t7708.25\t2.04\t3  \t3  \t2  \t50    \t0.195959\n",
      "4  \t50    \t37762.6\t4  \t39336 \t0  \t50    \t7708.25\t2.04\t4  \t3  \t2  \t50    \t0.195959\n",
      "5  \t50    \t37762.6\t5  \t39336 \t0  \t50    \t7708.25\t2.04\t5  \t3  \t2  \t50    \t0.195959\n",
      "6  \t50    \t37762.6\t6  \t39336 \t0  \t50    \t7708.25\t2.04\t6  \t3  \t2  \t50    \t0.195959\n",
      "7  \t50    \t37762.6\t7  \t39336 \t0  \t50    \t7708.25\t2.04\t7  \t3  \t2  \t50    \t0.195959\n",
      "8  \t50    \t37762.6\t8  \t39336 \t0  \t50    \t7708.25\t2.04\t8  \t3  \t2  \t50    \t0.195959\n",
      "9  \t50    \t37762.6\t9  \t39336 \t0  \t50    \t7708.25\t2.04\t9  \t3  \t2  \t50    \t0.195959\n",
      "10 \t50    \t37762.6\t10 \t39336 \t0  \t50    \t7708.25\t2.04\t10 \t3  \t2  \t50    \t0.195959\n",
      "Best individual is:\n",
      " mul(x, x)\n",
      "\n",
      "With fitness: (0.0, 3.0)\n"
     ]
    }
   ],
   "source": [
    "import numpy\n",
    "from deap import algorithms\n",
    "\n",
    "# 统计指标\n",
    "stats_fit = tools.Statistics(lambda ind: ind.fitness.values[0])\n",
    "stats_size = tools.Statistics(lambda ind: ind.fitness.values[1])\n",
    "mstats = tools.MultiStatistics(fitness=stats_fit, size=stats_size) # 将两个统计指标整合在一起\n",
    "mstats.register(\"avg\", numpy.mean)\n",
    "mstats.register(\"std\", numpy.std)\n",
    "mstats.register(\"min\", numpy.min)\n",
    "mstats.register(\"max\", numpy.max)\n",
    "\n",
    "population = toolbox.population(n=50)\n",
    "pop, log  = algorithms.eaMuPlusLambda(\n",
    "    population=population,\n",
    "    toolbox=toolbox, \n",
    "    mu=len(population), # 父代大小\n",
    "    lambda_=len(population), # 子代大小\n",
    "    cxpb=0.9,  # 交叉概率\n",
    "    mutpb=0.1, # 变异概率\n",
    "    ngen=10,  # 进化代数\n",
    "    stats=mstats, \n",
    "    halloffame=None,  # 名人堂（保存历史最优解）\n",
    "    verbose=True\n",
    "    )\n",
    "\"\"\"\n",
    "使用(μ+λ)策略：\n",
    "mu个父代个体产生lambda个子代\n",
    "从(父代+子代)中选择最优的mu个作为新一代\n",
    "\"\"\"\n",
    "\n",
    "# 最佳个体\n",
    "best_ind = tools.selBest(pop, 1)[0] # 最好的一个个体\n",
    "print('Best individual is:\\n', best_ind)\n",
    "print('\\nWith fitness:', best_ind.fitness.values)"
   ]
  },
  {
   "cell_type": "markdown",
   "id": "7aa57e0f8b6151ad",
   "metadata": {},
   "source": [
    "基于优化结果，我们还可以绘制Pareto前沿，以便于选择最终的模型。"
   ]
  },
  {
   "cell_type": "code",
   "execution_count": 5,
   "id": "28284e0a0047fcfc",
   "metadata": {
    "ExecuteTime": {
     "end_time": "2023-11-10T08:50:31.483100600Z",
     "start_time": "2023-11-10T08:50:31.314335800Z"
    }
   },
   "outputs": [
    {
     "name": "stderr",
     "output_type": "stream",
     "text": [
      "/tmp/ipykernel_66389/941043822.py:18: UserWarning: Ignoring `palette` because no `hue` variable has been assigned.\n",
      "  sns.scatterplot(x=mse, y=sizes, palette=\"viridis\", s=60, edgecolor=\"w\", alpha=0.7)\n"
     ]
    },
    {
     "data": {
      "image/png": "[encoded data removed]",
      "text/plain": [
       "<Figure size 1000x600 with 1 Axes>"
      ]
     },
     "metadata": {},
     "output_type": "display_data"
    }
   ],
   "source": [
    "from matplotlib import pyplot as plt\n",
    "import seaborn as sns\n",
    "\n",
    "# 非支配排序\n",
    "fronts = tools.sortNondominated(pop, len(pop), first_front_only=True)\n",
    "\n",
    "# Pareto前沿\n",
    "pareto_front = fronts[0]\n",
    "fitnesses = [ind.fitness.values for ind in pareto_front]\n",
    "\n",
    "# 分离均方误差和树的大小\n",
    "mse = [fit[0] for fit in fitnesses]\n",
    "sizes = [fit[1] for fit in fitnesses]\n",
    "\n",
    "# 使用seaborn绘制散点图\n",
    "sns.set(style=\"whitegrid\")\n",
    "plt.figure(figsize=(10, 6))\n",
    "sns.scatterplot(x=mse, y=sizes, palette=\"viridis\", s=60, edgecolor=\"w\", alpha=0.7)\n",
    "plt.xlabel('Mean Square Error')\n",
    "plt.ylabel('Size of the GP Tree')\n",
    "plt.title('Pareto Front')\n",
    "plt.show()"
   ]
  }
 ],
 "metadata": {
  "kernelspec": {
   "display_name": "base",
   "language": "python",
   "name": "python3"
  },
  "language_info": {
   "codemirror_mode": {
    "name": "ipython",
    "version": 3
   },
   "file_extension": ".py",
   "mimetype": "text/x-python",
   "name": "python",
   "nbconvert_exporter": "python",
   "pygments_lexer": "ipython3",
   "version": "3.11.5"
  }
 },
 "nbformat": 4,
 "nbformat_minor": 5
}
