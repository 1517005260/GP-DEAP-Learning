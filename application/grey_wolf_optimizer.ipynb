{
 "cells": [
  {
   "cell_type": "markdown",
   "id": "5b93ac521063c6a7",
   "metadata": {},
   "source": [
    "### 基于灰狼优化的遗传编程\n",
    "\n",
    "**灰狼优化**和**灰狼**的关系就和**蚂蚁上树**与**蚂蚁**的关系是一样的。灰狼优化里面当然没有灰狼，正如蚂蚁上树里面也不会真的有蚂蚁一样。\n",
    "\n",
    "所谓灰狼优化，即Seyedali Mirjalili观察到灰狼种群分为alpha, beta, delta和omega狼，**alpha, beta, delta会带领omega狼**，从而设计的一种优化算法。\n",
    "\n",
    "灰狼算法现在有14000+的引用量，应该说还算是一个比较有影响力的算法。\n",
    "\n",
    "![灰狼优化](img/greywolfga.jpg)\n",
    "\n",
    "灰狼算法(Grey Wolf Optimizer, GWO)是一种受灰狼群体社会等级结构和狩猎行为启发的元启发式优化算法。现在来详细解释这个算法的核心概念：\n",
    "\n",
    "社会等级结构：\n",
    "灰狼算法模拟了狼群中严格的社会等级制度，就像图中金字塔所展示的那样，从上到下分为四个层级：\n",
    "- α (alpha)狼：最顶层的领导者，负责决策\n",
    "- β (beta)狼：第二层级，协助α狼管理狼群\n",
    "- δ (delta)狼：中间层级，执行上级命令\n",
    "- ω (omega)狼：最底层，服从其他狼的指挥\n",
    "\n",
    "这种等级结构在算法中的应用非常巧妙。在优化过程中：\n",
    "1. α狼代表当前找到的最佳解决方案\n",
    "2. β狼代表第二好的解决方案\n",
    "3. δ狼代表第三好的解决方案\n",
    "4. 其余的解都被视为ω狼\n",
    "\n",
    "狩猎行为：\n",
    "算法模拟了狼群围捕猎物的三个主要阶段：\n",
    "1. 搜索猎物：狼群分散开来寻找潜在目标\n",
    "2. 包围猎物：发现猎物后，狼群逐渐靠近并包围它\n",
    "3. 攻击猎物：在α狼的带领下协同攻击\n",
    "\n",
    "算法特点：\n",
    "1. 自适应性强：通过模拟狼群的等级制度，能够在搜索空间中维持解的多样性\n",
    "2. 平衡性好：在全局探索和局部开发之间取得了很好的平衡\n",
    "3. 应用广泛：从14000多次引用可以看出，这个算法在工程优化、机器学习等众多领域都有成功应用\n",
    "\n",
    "就像图中展示的狼群协作场景，灰狼算法正是通过模拟这种高效的群体智能，来解决复杂的优化问题。这种基于自然启发的算法设计方法，不仅效果显著，而且易于理解和实现。"
   ]
  },
  {
   "cell_type": "markdown",
   "id": "c38417f7f5bd3ba6",
   "metadata": {},
   "source": [
    "### 实验问题\n",
    "\n",
    "本文的实验问题是GP领域最经典的符号回归问题，即根据训练数据，找到真实函数。\n",
    "\n",
    "在这里，我们的真实函数是$x^3 + x^2$。"
   ]
  },
  {
   "cell_type": "code",
   "execution_count": 1,
   "id": "initial_id",
   "metadata": {
    "ExecuteTime": {
     "end_time": "2024-02-25T02:53:29.462077Z",
     "start_time": "2024-02-25T02:53:29.350856400Z"
    },
    "collapsed": true
   },
   "outputs": [],
   "source": [
    "import math\n",
    "import operator\n",
    "import random\n",
    "\n",
    "import numpy as np\n",
    "from deap import base, creator, tools, gp\n",
    "from deap.tools import selTournament\n",
    "\n",
    "np.random.seed(0)\n",
    "random.seed(0)\n",
    "\n",
    "\n",
    "# 符号回归\n",
    "def evalSymbReg(individual, pset):\n",
    "    # 编译GP树为函数\n",
    "    func = gp.compile(expr=individual, pset=pset)\n",
    "    # 计算均方误差（Mean Square Error，MSE）\n",
    "    mse = ((func(x) - (x ** 3 + x ** 2)) ** 2 for x in range(-10, 10))\n",
    "    return (math.fsum(mse),)\n",
    "\n",
    "\n",
    "# 创建个体和适应度函数\n",
    "creator.create(\"FitnessMin\", base.Fitness, weights=(-1.0,))\n",
    "creator.create(\"Individual\", gp.PrimitiveTree, fitness=creator.FitnessMin)"
   ]
  },
  {
   "cell_type": "markdown",
   "id": "de05d4716285bc12",
   "metadata": {},
   "source": [
    "#### 选择算子\n",
    "经典的灰狼算法主要是用于优化连续优化问题，对于遗传编程，我们可以基于遗传编程算法的特点，稍加修改。\n",
    "\n",
    "在这里，我们将Top-3的个体作为alpha, beta, delta，剩下的个体作为omega。\n",
    "\n",
    "然后，我们随机选择alpha, beta, delta中的一个个体，或者omega中的一个个体，作为新一代的个体。\n",
    "\n",
    "这里，由于选择alpha, beta, delta的概率是0.5，因此相当于整个种群会被alpha, beta, delta个体引领。这也就是灰狼算法最核心的思想。"
   ]
  },
  {
   "cell_type": "code",
   "execution_count": 2,
   "id": "8d45279c64374b2e",
   "metadata": {
    "ExecuteTime": {
     "end_time": "2024-02-25T02:53:29.464592700Z",
     "start_time": "2024-02-25T02:53:29.413165300Z"
    }
   },
   "outputs": [],
   "source": [
    "from operator import attrgetter\n",
    "\n",
    "# Grey Wolf Optimizer Selection\n",
    "def selGWO(individuals, k, fit_attr=\"fitness\"):\n",
    "    # 根据适应度对个体进行排序；最优个体排在前面\n",
    "    sorted_individuals = sorted(individuals, key=attrgetter(fit_attr), reverse=True) # 降序排序\n",
    "\n",
    "    \"\"\"\n",
    "    选取排序后的前三个个体作为领导者群体，它们分别代表：\n",
    "    第一名：alpha狼（最优解）\n",
    "    第二名：beta狼（次优解）\n",
    "    第三名：delta狼（第三优解）\n",
    "    \"\"\"\n",
    "    leaders = sorted_individuals[:3]\n",
    "\n",
    "    # 剩余的个体被视为omega\n",
    "    omega = sorted_individuals[3:]\n",
    "\n",
    "    # 选择交叉/变异的个体\n",
    "    return [random.choice(leaders) if random.random() < 0.5 else random.choice(omega) for _ in range(k)]"
   ]
  },
  {
   "cell_type": "markdown",
   "id": "0480c3a0",
   "metadata": {},
   "source": [
    "对于：`return [random.choice(leaders) if random.random() < 0.5 else random.choice(omega) for _ in range(k)]`\n",
    "\n",
    "这行代码实现了灰狼算法的核心思想：\n",
    "\n",
    "- 对于每个需要选择的位置，有50%的概率从leaders中选择\n",
    "- 有50%的概率从omega群体中选择\n",
    "- 使用列表推导式生成k个选择结果\n",
    "\n",
    "这个选择机制的优点在于：\n",
    "\n",
    "- 保持精英个体：通过较高概率选择领导者群体，保证了优秀基因的传递\n",
    "- 维持多样性：通过一定概率选择omega群体，避免种群过早收敛\n",
    "- 模拟社会学习：反映了灰狼群体中的等级学习机制\n",
    "\n",
    "这种选择方法巧妙地将灰狼算法的社会层级概念与遗传算法的选择操作相结合，创造了一个既能保持种群质量又能维持多样性的选择机制。这对于解决复杂的优化问题，特别是容易陷入局部最优的问题，具有很好的效果。"
   ]
  },
  {
   "cell_type": "code",
   "execution_count": 3,
   "id": "a64c3b6263b43be3",
   "metadata": {
    "ExecuteTime": {
     "end_time": "2024-02-25T02:53:29.480623900Z",
     "start_time": "2024-02-25T02:53:29.469592400Z"
    }
   },
   "outputs": [
    {
     "name": "stderr",
     "output_type": "stream",
     "text": [
      "/home/glk/project/anaconda3/lib/python3.11/site-packages/deap/gp.py:257: RuntimeWarning: Ephemeral rand101 function cannot be pickled because its generating function is a lambda function. Use functools.partial instead.\n",
      "  warnings.warn(\"Ephemeral {name} function cannot be \"\n"
     ]
    }
   ],
   "source": [
    "import random\n",
    "\n",
    "# 定义函数集合和终端集合\n",
    "pset = gp.PrimitiveSet(\"MAIN\", arity=1)\n",
    "pset.addPrimitive(operator.add, 2)\n",
    "pset.addPrimitive(operator.sub, 2)\n",
    "pset.addPrimitive(operator.mul, 2)\n",
    "pset.addPrimitive(operator.neg, 1)\n",
    "pset.addEphemeralConstant(\"rand101\", lambda: random.randint(-1, 1))\n",
    "pset.renameArguments(ARG0='x')\n",
    "\n",
    "# 定义遗传编程操作\n",
    "toolbox = base.Toolbox()\n",
    "toolbox.register(\"expr\", gp.genHalfAndHalf, pset=pset, min_=0, max_=6)\n",
    "toolbox.register(\"individual\", tools.initIterate, creator.Individual, toolbox.expr)\n",
    "toolbox.register(\"population\", tools.initRepeat, list, toolbox.individual)\n",
    "toolbox.register(\"compile\", gp.compile, pset=pset)\n",
    "toolbox.register(\"evaluate\", evalSymbReg, pset=pset)\n",
    "toolbox.register(\"select\", selGWO)\n",
    "toolbox.register(\"mate\", gp.cxOnePoint)\n",
    "toolbox.register(\"mutate\", gp.mutUniform, expr=toolbox.expr, pset=pset)"
   ]
  },
  {
   "cell_type": "markdown",
   "id": "d5938c2ff4b2308",
   "metadata": {},
   "source": [
    "### 实际结果\n",
    "\n",
    "现在，可以运行一下，看看实际的结果。"
   ]
  },
  {
   "cell_type": "code",
   "execution_count": 4,
   "id": "8c72542ecc15cf3c",
   "metadata": {
    "ExecuteTime": {
     "end_time": "2024-02-25T02:53:29.612186600Z",
     "start_time": "2024-02-25T02:53:29.484441600Z"
    }
   },
   "outputs": [
    {
     "name": "stdout",
     "output_type": "stream",
     "text": [
      "   \t      \t                              fitness                              \t                      size                     \n",
      "   \t      \t-------------------------------------------------------------------\t-----------------------------------------------\n",
      "gen\tnevals\tavg        \tgen\tmax        \tmin\tnevals\tstd        \tavg  \tgen\tmax\tmin\tnevals\tstd    \n",
      "0  \t100   \t1.85626e+09\t0  \t1.63558e+11\t20 \t100   \t1.63417e+10\t13.01\t0  \t109\t1  \t100   \t18.8199\n",
      "1  \t97    \t2.78507e+11\t1  \t2.77639e+13\t20 \t97    \t2.7624e+12 \t16.59\t1  \t84 \t1  \t97    \t14.7764\n",
      "2  \t91    \t1.45053e+10\t2  \t1.44943e+12\t0  \t91    \t1.44215e+11\t18.93\t2  \t66 \t1  \t91    \t8.99139\n",
      "3  \t92    \t1.05095e+14\t3  \t1.0508e+16 \t0  \t92    \t1.04554e+15\t22.02\t3  \t115\t1  \t92    \t13.124 \n",
      "4  \t90    \t3.5126e+08 \t4  \t1.76023e+10\t0  \t90    \t2.43413e+09\t21.97\t4  \t43 \t1  \t90    \t7.74914\n",
      "5  \t88    \t3.5427e+08 \t5  \t1.76023e+10\t0  \t88    \t2.40632e+09\t24.41\t5  \t43 \t6  \t88    \t6.87036\n",
      "6  \t91    \t3.62014e+08\t6  \t1.76022e+10\t0  \t91    \t2.4341e+09 \t26.1 \t6  \t98 \t4  \t91    \t10.9968\n",
      "7  \t84    \t2.02267e+12\t7  \t2.02136e+14\t0  \t84    \t2.01122e+13\t25.43\t7  \t72 \t3  \t84    \t12.1254\n",
      "8  \t94    \t6.17398e+08\t8  \t2.30114e+10\t0  \t94    \t3.40487e+09\t25.77\t8  \t74 \t10 \t94    \t11.0931\n",
      "9  \t86    \t6.03678e+08\t9  \t2.15822e+10\t0  \t86    \t3.36656e+09\t22.36\t9  \t76 \t3  \t86    \t12.3114\n",
      "10 \t82    \t7.0262e+08 \t10 \t1.76331e+10\t0  \t82    \t3.36997e+09\t25.97\t10 \t67 \t3  \t82    \t13.3045\n"
     ]
    }
   ],
   "source": [
    "import numpy\n",
    "from deap import algorithms\n",
    "\n",
    "# 定义统计指标，跟踪种群的适应度和表达式大小。\n",
    "stats_fit = tools.Statistics(lambda ind: ind.fitness.values)\n",
    "stats_size = tools.Statistics(len)\n",
    "mstats = tools.MultiStatistics(fitness=stats_fit, size=stats_size)\n",
    "mstats.register(\"avg\", numpy.mean)\n",
    "mstats.register(\"std\", numpy.std)\n",
    "mstats.register(\"min\", numpy.min)\n",
    "mstats.register(\"max\", numpy.max)\n",
    "\n",
    "# 传统锦标赛选择算法\n",
    "population = toolbox.population(n=100)\n",
    "hof = tools.HallOfFame(1)\n",
    "_ = algorithms.eaSimple(population=population,\n",
    "                        toolbox=toolbox, cxpb=0.9, mutpb=0.1, ngen=10, stats=mstats, halloffame=hof,\n",
    "                        verbose=True)"
   ]
  },
  {
   "cell_type": "code",
   "execution_count": 5,
   "id": "2fec33b8c50c9e16",
   "metadata": {
    "ExecuteTime": {
     "end_time": "2024-02-25T02:53:29.614209500Z",
     "start_time": "2024-02-25T02:53:29.611124100Z"
    }
   },
   "outputs": [
    {
     "name": "stdout",
     "output_type": "stream",
     "text": [
      "add(add(neg(x), mul(mul(x, x), sub(x, -1))), neg(mul(add(0, x), neg(1))))\n"
     ]
    }
   ],
   "source": [
    "print(str(hof[0]))"
   ]
  },
  {
   "cell_type": "code",
   "execution_count": 6,
   "id": "5e9a8742f4621f52",
   "metadata": {
    "ExecuteTime": {
     "end_time": "2024-02-25T02:53:29.830372600Z",
     "start_time": "2024-02-25T02:53:29.616722700Z"
    }
   },
   "outputs": [
    {
     "name": "stdout",
     "output_type": "stream",
     "text": [
      "   \t      \t                              fitness                              \t                      size                     \n",
      "   \t      \t-------------------------------------------------------------------\t-----------------------------------------------\n",
      "gen\tnevals\tavg        \tgen\tmax       \tmin   \tnevals\tstd        \tavg  \tgen\tmax\tmin\tnevals\tstd    \n",
      "0  \t100   \t5.51171e+12\t0  \t5.5117e+14\t154094\t100   \t5.48407e+13\t12.95\t0  \t100\t1  \t100   \t20.4931\n",
      "1  \t95    \t2.67999e+06\t1  \t3.36682e+06\t154094\t95    \t426386     \t7.25 \t1  \t59 \t1  \t95    \t12.0361\n",
      "2  \t91    \t2.65683e+06\t2  \t1.11493e+07\t154094\t91    \t1.01201e+06\t9.33 \t2  \t62 \t1  \t91    \t14.128 \n",
      "3  \t88    \t2.64718e+06\t3  \t2.828e+07  \t40666 \t88    \t2.87378e+06\t17.97\t3  \t100\t1  \t88    \t21.0701\n",
      "4  \t91    \t2.52386e+10\t4  \t2.40504e+12\t670   \t91    \t2.39326e+11\t33.98\t4  \t104\t1  \t91    \t25.6355\n",
      "5  \t95    \t4.33015e+06\t5  \t2.3502e+08 \t670   \t95    \t2.3649e+07 \t52.02\t5  \t142\t3  \t95    \t25.333 \n",
      "6  \t86    \t1.46688e+12\t6  \t1.46688e+14\t20    \t86    \t1.45952e+13\t57.23\t6  \t114\t7  \t86    \t22.9215\n",
      "7  \t95    \t5.50361e+06\t7  \t2.18106e+08\t20    \t95    \t3.01262e+07\t59.23\t7  \t133\t16 \t95    \t23.1477\n",
      "8  \t86    \t3.7073e+08 \t8  \t1.80501e+10\t20    \t86    \t2.49479e+09\t57.93\t8  \t133\t5  \t86    \t24.5647\n",
      "9  \t98    \t5.09515e+06\t9  \t2.23621e+08\t0     \t98    \t3.09103e+07\t61.48\t9  \t140\t18 \t98    \t29.1806\n",
      "10 \t89    \t5.50028e+08\t10 \t1.85126e+10\t0     \t89    \t3.1095e+09 \t64.09\t10 \t149\t11 \t89    \t31.7535\n"
     ]
    }
   ],
   "source": [
    "toolbox.register(\"select\", selTournament, tournsize=3)\n",
    "population = toolbox.population(n=100)\n",
    "hof = tools.HallOfFame(1)\n",
    "_ = algorithms.eaSimple(population=population,\n",
    "                        toolbox=toolbox, cxpb=0.9, mutpb=0.1, ngen=10, stats=mstats, halloffame=hof,\n",
    "                        verbose=True)"
   ]
  },
  {
   "cell_type": "code",
   "execution_count": 7,
   "id": "b66a9c085b6ac8f0",
   "metadata": {
    "ExecuteTime": {
     "end_time": "2024-02-25T02:53:29.832024900Z",
     "start_time": "2024-02-25T02:53:29.829866900Z"
    }
   },
   "outputs": [
    {
     "name": "stdout",
     "output_type": "stream",
     "text": [
      "sub(neg(sub(sub(neg(add(1, add(1, x))), mul(add(1, x), mul(x, x))), mul(neg(neg(x)), -1))), sub(sub(neg(sub(add(-1, x), mul(1, x))), -1), neg(neg(0))))\n"
     ]
    }
   ],
   "source": [
    "print(str(hof[0]))"
   ]
  },
  {
   "cell_type": "markdown",
   "id": "8e6257cae5d6e632",
   "metadata": {},
   "source": [
    "从结果可以看出，灰狼优化和传统的Tournament算子都可以成功地找到真实函数。相比之下，灰狼优化可以在更少的迭代次数内找到真实函数。\n",
    "\n",
    "通过一个生动的例子来帮助理解这整个优化过程。\n",
    "\n",
    "想象你正在教一个孩子画画，目标是画出一只完美的猫。这就像我们要找到表达式 x³ + x²。\n",
    "\n",
    "传统的锦标赛选择算法就像这样工作：\n",
    "```\n",
    "每一轮比赛：\n",
    "1. 随机选3个小朋友比赛画猫\n",
    "2. 选出画得最好的那个小朋友\n",
    "3. 让其他小朋友模仿他的画法\n",
    "```\n",
    "\n",
    "而灰狼优化算法则是这样：\n",
    "```\n",
    "班级里有四个层次：\n",
    "- 小明是画得最好的（alpha狼）\n",
    "- 小红是第二好的（beta狼）\n",
    "- 小张是第三好的（delta狼）\n",
    "- 其他同学都是学习者（omega狼）\n",
    "\n",
    "每次练习时：\n",
    "- 50%的机会跟着小明、小红或小张学习\n",
    "- 50%的机会尝试自己的新画法\n",
    "```\n",
    "\n",
    "现在让我们看看两种方法的区别：\n",
    "\n",
    "传统锦标赛方法：\n",
    "- 好处：画的猫都比较\"规范\"（表达式简单，平均大小25.97）\n",
    "- 缺点：进步比较慢，可能陷入\"千篇一律\"（适应度值下降较慢）\n",
    "\n",
    "灰狼优化方法：\n",
    "- 好处：进步很快，能画出更像真猫的画（适应度值快速下降到2.67e+06）\n",
    "- 特点：敢于尝试各种画法，甚至有点\"标新立异\"（表达式更复杂，平均大小64.09）\n",
    "\n",
    "实验结果显示：\n",
    "```python\n",
    "# 传统方法最终画出的\"猫\"（简单但不够准确）\n",
    "add(add(neg(x), mul(mul(x, x), sub(x, -1))), neg(mul(add(0, x), neg(1))))\n",
    "\n",
    "# 灰狼方法画出的\"猫\"（复杂但更像真猫）\n",
    "sub(neg(sub(sub(neg(add(1, add(1, x))), mul(add(1, x), mul(x, x))), mul(neg(neg(x)), -1))), ...)\n",
    "```\n",
    "\n",
    "这就像：\n",
    "- 传统方法的孩子画出的是简单的\"火柴人猫\"\n",
    "- 灰狼方法的孩子画出的是复杂的\"写实猫\"\n",
    "\n",
    "重要启示：\n",
    "1. 有时候，给学习者更多自由（灰狼方法中的50%创新机会）反而能获得更好的结果\n",
    "2. 保持对优秀者的学习（向alpha、beta、delta学习）和自主创新的平衡很重要\n",
    "3. 不要过分追求\"标准答案\"，有时候看起来复杂的解法可能效果更好\n",
    "\n",
    "这个例子说明了为什么灰狼优化算法在实践中往往能取得更好的效果 - 它很好地平衡了\"遵循标准\"和\"大胆创新\"这两个看似矛盾的目标。就像教育一样，最好的方法往往不是简单的模仿，而是在借鉴中寻求创新。"
   ]
  }
 ],
 "metadata": {
  "kernelspec": {
   "display_name": "base",
   "language": "python",
   "name": "python3"
  },
  "language_info": {
   "codemirror_mode": {
    "name": "ipython",
    "version": 3
   },
   "file_extension": ".py",
   "mimetype": "text/x-python",
   "name": "python",
   "nbconvert_exporter": "python",
   "pygments_lexer": "ipython3",
   "version": "3.11.5"
  }
 },
 "nbformat": 4,
 "nbformat_minor": 5
}
