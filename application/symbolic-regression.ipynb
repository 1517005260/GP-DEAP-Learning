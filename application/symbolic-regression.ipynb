{
 "cells": [
  {
   "cell_type": "markdown",
   "id": "cbf709014ce0316e",
   "metadata": {},
   "source": [
    "## 基于单树GP的符号回归（Symbolic Regression）\n",
    "\n",
    "基于单树GP的符号回归是指使用遗传编程（GP）生成数学公式来逼近一组数据的关系，通过组合DEAP的Creator，Toolbox和Algorithms这三个模块即可实现。\n",
    "\n",
    "\n",
    "### Creator类\n",
    "Creator是一个工具类，其主要作用是创建新的类。在遗传编程中，通常需要自定义个体（Individual）和适应度（Fitness）类，因为不同的问题可能需要不同的适应度类型和个体结构。在DEAP中，我们可以使用creator来动态地创建这些类。\n",
    "\n",
    "在下面的例子中，我们创建了一个最基本的单目标单树GP，可以使用base.Fitness和gp.PrimitiveTree来定义。"
   ]
  },
  {
   "cell_type": "code",
   "execution_count": 1,
   "id": "59cfefc0467c74ad",
   "metadata": {
    "ExecuteTime": {
     "end_time": "2023-11-08T02:39:00.130308400Z",
     "start_time": "2023-11-08T02:39:00.012636500Z"
    }
   },
   "outputs": [
    {
     "data": {
      "text/plain": [
       "'\\n创建了一个名为Individual的新类\\n它继承自gp.PrimitiveTree类（这是遗传编程中表示表达式树的类）\\nfitness=creator.FitnessMin给这个类添加了一个适应度属性\\n'"
      ]
     },
     "execution_count": 1,
     "metadata": {},
     "output_type": "execute_result"
    }
   ],
   "source": [
    "import math\n",
    "import operator # 提供基本数学运算符\n",
    "\n",
    "from deap import base, creator, tools, gp\n",
    "\n",
    "\n",
    "# 符号回归\n",
    "# 评估函数，输入一个个体individual和一个原语集pset\n",
    "def evalSymbReg(individual, pset):\n",
    "    # 编译GP树为函数\n",
    "    func = gp.compile(expr=individual, pset=pset)\n",
    "    # 计算均方误差（Mean Square Error，MSE）\n",
    "    mse = ((func(x) - x**2)**2 for x in range(-10, 10))\n",
    "    return (math.fsum(mse),)\n",
    "\n",
    "# 创建个体和适应度函数\n",
    "creator.create(\"FitnessMin\", base.Fitness, weights=(-1.0,))\n",
    "\"\"\"\n",
    "创建了一个名为FitnessMin的新类，它继承自base.Fitness类\n",
    "weights=(-1.0,) 表示这是一个最小化问题，如果是(1.0,)则表示最大化问题\n",
    "-1.0意味着适应度值越小越好\n",
    "括号和逗号(-1.0,)表示这是一个单目标优化问题\n",
    "\"\"\"\n",
    "creator.create(\"Individual\", gp.PrimitiveTree, fitness=creator.FitnessMin)\n",
    "\"\"\"\n",
    "创建了一个名为Individual的新类\n",
    "它继承自gp.PrimitiveTree类（这是遗传编程中表示表达式树的类）\n",
    "fitness=creator.FitnessMin给这个类添加了一个适应度属性\n",
    "\"\"\""
   ]
  },
  {
   "cell_type": "markdown",
   "id": "3c875628",
   "metadata": {},
   "source": [
    "这里需要有些注释：\n",
    "\n",
    "1. 原语集(pset)：原语集就是我们定义的所有可用的基本操作和变量,在这个例子中包含:\n",
    "- 数学运算: +, -, ×, 负号\n",
    "- 变量: x\n",
    "- 常量: -1, 0, 1\n",
    "\n",
    "2. 个体(individual)是用这些基本原语（元素）构建出来的一个表达式树。比如:\n",
    "\n",
    "假设进化过程生成了表达式: `x × (x + 1)`\n",
    "\n",
    "这个表达式作为一个个体,它的树形结构是这样的:\n",
    "```\n",
    "      ×\n",
    "     / \\\n",
    "    x   +\n",
    "       / \\\n",
    "      x   1\n",
    "```\n",
    "\n",
    "那么评估函数的工作就是:\n",
    "```python\n",
    "def evalSymbReg(individual, pset):\n",
    "    # 把表达式树编译成实际的函数\n",
    "    func = gp.compile(expr=individual, pset=pset)\n",
    "    # 现在func相当于: f(x) = x * (x + 1)\n",
    "    \n",
    "    # 计算在x从-10到9的每个点上的误差\n",
    "    mse = ((func(x) - x**2)**2 for x in range(-10, 10))\n",
    "    # 例如:\n",
    "    # 当x = 2时:\n",
    "    # func(2) = 2 * (2 + 1) = 2 * 3 = 6\n",
    "    # 实际值 2² = 4\n",
    "    # 误差 = (6 - 4)² = 4\n",
    "    \n",
    "    return (math.fsum(mse),)  # 返回总误差\n",
    "```\n",
    "\n",
    "评估函数会对每个这样的个体:\n",
    "- 把它编译成可执行的数学函数\n",
    "- 用不同的x值(-10到9)测试这个函数\n",
    "- 计算与目标函数(x²)的误差\n",
    "- 返回总误差作为这个个体的适应度\n",
    "\n",
    "适应度越小说明这个表达式越接近我们要找的x²函数。进化过程就是不断尝试不同的表达式组合,保留误差小的,淘汰误差大的,最终找到一个好的近似表达式。\n",
    "\n",
    "3. 创建个体的过程可以如下简化：\n",
    "\n",
    "```python\n",
    "某个个体 = Individual(一个表达式树)\n",
    "某个个体.fitness.values = (100,)  # 设置这个个体的适应度值\n",
    "\n",
    "# 具体例子：如果这个个体表示表达式 x * (x + 1)\n",
    "个体的树形结构 = [\n",
    "    operator.mul,   # 乘法操作\n",
    "    'x',           # 变量x\n",
    "    [              # 子树\n",
    "        operator.add,  # 加法操作\n",
    "        'x',          # 变量x\n",
    "        1             # 常数1\n",
    "    ]\n",
    "]\n",
    "individual = Individual(个体的树形结构)\n",
    "individual.fitness.values = (50,)  # 设置适应度\n",
    "```"
   ]
  },
  {
   "cell_type": "markdown",
   "id": "956e01e17271daa6",
   "metadata": {},
   "source": [
    "### Toolbox类\n",
    "Toolbox的作用类似于一个调度中心，它负责“注册”各种操作和函数。在遗传编程中，这些操作通常包括交叉（crossover）、变异（mutation）、选择（selection）和评估（evaluation）。通过register，我们可以将这些操作和相关的函数绑定在一起，以供后续算法使用。"
   ]
  },
  {
   "cell_type": "code",
   "execution_count": 2,
   "id": "851794d4d36e3681",
   "metadata": {
    "ExecuteTime": {
     "end_time": "2023-11-08T02:39:00.214209Z",
     "start_time": "2023-11-08T02:39:00.052073500Z"
    }
   },
   "outputs": [
    {
     "name": "stderr",
     "output_type": "stream",
     "text": [
      "/home/glk/project/anaconda3/lib/python3.11/site-packages/deap/gp.py:257: RuntimeWarning: Ephemeral rand101 function cannot be pickled because its generating function is a lambda function. Use functools.partial instead.\n",
      "  warnings.warn(\"Ephemeral {name} function cannot be \"\n"
     ]
    },
    {
     "data": {
      "text/plain": [
       "'\\n例如：\\n原始: (x + 1)\\n变异后: (x * 1) 或 (x + x) 等\\n'"
      ]
     },
     "execution_count": 2,
     "metadata": {},
     "output_type": "execute_result"
    }
   ],
   "source": [
    "import random\n",
    "\n",
    "# 定义函数集合和终端集合\n",
    "pset = gp.PrimitiveSet(\"MAIN\", arity=1) # 创建一个原语集，arity=1表示需要1个输入变量\n",
    "pset.addPrimitive(operator.add, 2) # +\n",
    "pset.addPrimitive(operator.sub, 2) # -\n",
    "pset.addPrimitive(operator.mul, 2) # *\n",
    "pset.addPrimitive(operator.neg, 1) # 取负\n",
    "pset.addEphemeralConstant(\"rand101\", lambda: random.randint(-1, 1)) # 添加一个随机常数生成器，可以生成-1、0、1这三个数。每次用到这个常数时，都会随机选择一个。\n",
    "pset.renameArguments(ARG0='x') # 把默认的参数名ARG0改成x，使表达式更易读。\n",
    "\n",
    "# 定义遗传编程操作\n",
    "toolbox = base.Toolbox() # 创建一个新的工具箱，用于存放各种操作。\n",
    "toolbox.register(\"expr\", gp.genHalfAndHalf, pset=pset, min_=1, max_=2) # 注册表达式生成器，使用\"Half and Half\"方法，树的深度在1到2之间。\n",
    "\"\"\"\n",
    "例如可能生成：\n",
    "    +            ×\n",
    "   / \\    或    / \\\n",
    "  x   1        x   x\n",
    "\"\"\"\n",
    "toolbox.register(\"individual\", tools.initIterate, creator.Individual, toolbox.expr) # 注册个体生成器，使用上面的表达式生成器创建个体。\n",
    "toolbox.register(\"population\", tools.initRepeat, list, toolbox.individual) # 注册种群生成器，通过重复创建个体来形成种群。\n",
    "toolbox.register(\"compile\", gp.compile, pset=pset) # 注册编译器，用于把表达式树转换成可执行函数。\n",
    "toolbox.register(\"evaluate\", evalSymbReg, pset=pset) # 注册评估函数，用于计算个体的适应度（本例越小越好）。\n",
    "toolbox.register(\"select\", tools.selTournament, tournsize=3) # 注册选择操作，使用锦标赛选择：随机选3个个体，取最好的那个。\n",
    "toolbox.register(\"mate\", gp.cxOnePoint) # 注册交叉操作，用于组合两个父代个体生成子代。\n",
    "\"\"\"\n",
    "例如：\n",
    "父代1: (x + 1)     父代2: (x * x)\n",
    "交叉后可能得到：\n",
    "子代1: (x * 1)     子代2: (x + x)\n",
    "\"\"\"\n",
    "toolbox.register(\"mutate\", gp.mutUniform, expr=toolbox.expr, pset=pset) # 注册变异操作，随机改变表达式的某个部分。\n",
    "\"\"\"\n",
    "例如：\n",
    "原始: (x + 1)\n",
    "变异后: (x * 1) 或 (x + x) 等\n",
    "\"\"\""
   ]
  },
  {
   "cell_type": "markdown",
   "id": "62f30d17704db709",
   "metadata": {},
   "source": [
    "### Algorithms类\n",
    "Algorithms模块提供了一些现成的遗传算法和遗传编程的实现。例如，eaSimple是一个简单的遗传算法，它可以处理基本的选择、交叉、变异和演化迭代。"
   ]
  },
  {
   "cell_type": "code",
   "execution_count": 3,
   "id": "515b587d4f8876ea",
   "metadata": {
    "ExecuteTime": {
     "end_time": "2023-11-08T02:39:00.216839200Z",
     "start_time": "2023-11-08T02:39:00.068850700Z"
    }
   },
   "outputs": [
    {
     "name": "stdout",
     "output_type": "stream",
     "text": [
      "   \t      \t                              fitness                              \t                      size                     \n",
      "   \t      \t-------------------------------------------------------------------\t-----------------------------------------------\n",
      "gen\tnevals\tavg        \tgen\tmax       \tmin\tnevals\tstd        \tavg \tgen\tmax\tmin\tnevals\tstd    \n",
      "0  \t100   \t2.33643e+06\t0  \t2.2959e+08\t0  \t100   \t2.28398e+07\t3.72\t0  \t7  \t2  \t100   \t1.59424\n",
      "1  \t92    \t68018.2    \t1  \t3.19748e+06\t0  \t92    \t315074     \t3.11\t1  \t7  \t2  \t92    \t1.24816\n",
      "2  \t94    \t65211.2    \t2  \t3.51947e+06\t0  \t94    \t348146     \t3.25\t2  \t11 \t2  \t94    \t1.76281\n",
      "3  \t96    \t86640.9    \t3  \t3.19748e+06\t0  \t96    \t445510     \t3.85\t3  \t9  \t2  \t96    \t1.82414\n",
      "4  \t98    \t2.43247e+06\t4  \t2.24174e+08\t0  \t98    \t2.23227e+07\t3.66\t4  \t10 \t2  \t98    \t1.53766\n",
      "5  \t92    \t126027     \t5  \t1.22679e+07\t0  \t92    \t1.22044e+06\t3.08\t5  \t7  \t3  \t92    \t0.462169\n",
      "6  \t85    \t34482.8    \t6  \t3.19748e+06\t0  \t85    \t318048     \t3.12\t6  \t9  \t3  \t85    \t0.682349\n",
      "7  \t89    \t9707.34    \t7  \t360664     \t0  \t89    \t43032.3    \t3.3 \t7  \t9  \t2  \t89    \t1.08167 \n",
      "8  \t93    \t7373.78    \t8  \t162664     \t0  \t93    \t25394.2    \t3.44\t8  \t9  \t3  \t93    \t1.23548 \n",
      "9  \t88    \t8993.22    \t9  \t365994     \t0  \t88    \t43427.7    \t3.23\t9  \t9  \t2  \t88    \t0.881533\n",
      "10 \t94    \t8560.06    \t10 \t162664     \t0  \t94    \t32565.4    \t3.3 \t10 \t9  \t2  \t94    \t0.974679\n"
     ]
    }
   ],
   "source": [
    "import numpy\n",
    "from deap import algorithms\n",
    "\n",
    "# 定义统计指标\n",
    "stats_fit = tools.Statistics(lambda ind: ind.fitness.values) # 创建统计对象来跟踪个体的适应度，lambda ind: ind.fitness.values 匿名函数从每个个体中提取适应度值\n",
    "stats_size = tools.Statistics(len) # 创建统计对象来跟踪个体的大小（表达式的复杂度）\n",
    "\"\"\"\n",
    "例如：\n",
    "x + 1 大小为3（一个加号，两个终端）\n",
    "x * (x + 1) 大小为5\n",
    "\"\"\"\n",
    "mstats = tools.MultiStatistics(fitness=stats_fit, size=stats_size) # 把适应度统计和大小统计组合在一起。\n",
    "mstats.register(\"avg\", numpy.mean) # 平均值\n",
    "mstats.register(\"std\", numpy.std) # 标准差\n",
    "mstats.register(\"min\", numpy.min) # 最小值\n",
    "mstats.register(\"max\", numpy.max) # 最大值\n",
    "\n",
    "# 使用默认算法\n",
    "population = toolbox.population(n=100) # 生成100个随机个体作为初始种群。\n",
    "hof = tools.HallOfFame(1) # 名人堂，用来保存找到的最佳个体。这里设置为1表示只保存最好的那一个。\n",
    "pop, log  = algorithms.eaSimple( # 运行进化算法\n",
    "    population=population,  # 初始种群\n",
    "    toolbox=toolbox,  # 工具箱\n",
    "    cxpb=0.9,  # 交叉概率90%\n",
    "    mutpb=0.1, # 变异概率10%\n",
    "    ngen=10, # 进化10代\n",
    "    stats=mstats, # 统计对象\n",
    "    halloffame=hof, # 名人堂\n",
    "    verbose=True, # 调试模式\n",
    "    )\n"
   ]
  },
  {
   "cell_type": "markdown",
   "id": "3baf4fd8",
   "metadata": {},
   "source": [
    "分析上述输出结果：这是进化过程中每一代的统计数据，分为fitness（适应度）和size（大小）两部分：\n",
    "\n",
    "按代分析：\n",
    "\n",
    "第0代（初始种群）：\n",
    "```\n",
    "fitness:\n",
    "- 平均值(avg): 2.33643e+06 （非常大的误差）\n",
    "- 最大值(max): 2.2959e+08 （最差的个体）\n",
    "- 最小值(min): 0 （最好的个体）\n",
    "- 标准差(std): 2.28398e+07 （说明个体差异很大）\n",
    "\n",
    "size:\n",
    "- 平均大小(avg): 3.72\n",
    "- 最大大小(max): 7\n",
    "- 最小大小(min): 2\n",
    "- 标准差(std): 1.59424 （表达式大小的变化范围）\n",
    "```\n",
    "\n",
    "第10代（最终代）：\n",
    "```\n",
    "fitness:\n",
    "- 平均值(avg): 8560.06 （误差显著降低）\n",
    "- 最大值(max): 162664 （最差个体的误差）\n",
    "- 最小值(min): 0 （找到了完美拟合的解）\n",
    "- 标准差(std): 32565.4 （个体间的差异减小）\n",
    "\n",
    "size:\n",
    "- 平均大小(avg): 3.3\n",
    "- 最大大小(max): 9\n",
    "- 最小大小(min): 2\n",
    "- 标准差(std): 0.974679 （表达式大小更稳定）\n",
    "```\n",
    "\n",
    "进化趋势分析：\n",
    "\n",
    "1. 适应度改进:\n",
    "   - 从初代的平均误差233万降到最后的8560\n",
    "   - 表明表达式的拟合效果有显著提升\n",
    "   - 最后找到了误差为0的完美解\n",
    "\n",
    "2. 表达式大小变化:\n",
    "   - 平均大小基本稳定在3-4之间\n",
    "   - 没有出现表达式爆炸（变得过于复杂）\n",
    "   - 标准差从1.59降到0.97，说明大小更加统一\n",
    "\n",
    "3. 关键转折点:\n",
    "   - 第1-2代：适应度有大幅改善\n",
    "   - 第6-7代：又一次显著进步\n",
    "   - 第8-10代：性能趋于稳定\n",
    "\n",
    "4. 种群规模:\n",
    "   - nevals显示每代评估的个体数在85-100之间\n",
    "   - 说明保持了足够的多样性\n",
    "\n",
    "总结：\n",
    "1. 算法成功找到了完美解（fitness=0）\n",
    "2. 进化过程是有效的，误差持续降低\n",
    "3. 表达式保持了简洁性（size较小且稳定）\n",
    "4. 最终解既准确（fitness=0）又简单（size较小）\n",
    "\n",
    "这是一次成功的运行，因为：\n",
    "- 达到了最优适应度（0误差）\n",
    "- 保持了表达式的简洁性\n",
    "- 显示了清晰的进化改进过程"
   ]
  },
  {
   "cell_type": "markdown",
   "id": "237b39454ea988bc",
   "metadata": {},
   "source": [
    "由于DEAP重载了字符串运算符，因此可以直接输出结果。"
   ]
  },
  {
   "cell_type": "code",
   "execution_count": 4,
   "id": "918142f4e60d65a0",
   "metadata": {
    "ExecuteTime": {
     "end_time": "2023-11-08T02:39:00.217794500Z",
     "start_time": "2023-11-08T02:39:00.118939200Z"
    }
   },
   "outputs": [
    {
     "data": {
      "text/plain": [
       "'mul(x, x)'"
      ]
     },
     "execution_count": 4,
     "metadata": {},
     "output_type": "execute_result"
    }
   ],
   "source": [
    "str(hof[0]) # 名人堂只有一个"
   ]
  },
  {
   "cell_type": "markdown",
   "id": "54fe3d72a677307c",
   "metadata": {},
   "source": [
    "当然，我们也可以利用NetworkX库来对GP树进行可视化。"
   ]
  },
  {
   "cell_type": "code",
   "execution_count": 5,
   "id": "2fa44e7277d90c4c",
   "metadata": {
    "ExecuteTime": {
     "end_time": "2023-11-08T02:39:00.449935300Z",
     "start_time": "2023-11-08T02:39:00.134624200Z"
    }
   },
   "outputs": [
    {
     "data": {
      "image/png": "[encoded data removed]",
      "text/plain": [
       "<Figure size 640x480 with 1 Axes>"
      ]
     },
     "metadata": {},
     "output_type": "display_data"
    }
   ],
   "source": [
    "# sudo apt-get install graphviz graphviz-dev\n",
    "# pip install pygraphviz\n",
    "import networkx as nx\n",
    "from deap.gp import graph\n",
    "from networkx.drawing.nx_agraph import graphviz_layout\n",
    "\n",
    "function_name = {\n",
    "    'add':'Add',\n",
    "    'sub':'Sub',\n",
    "    'mul':'Mul',\n",
    "    'neg':'Neg'\n",
    "}\n",
    "\n",
    "def is_number(string):\n",
    "    try:\n",
    "        float(string)\n",
    "        return True\n",
    "    except ValueError:\n",
    "        return False\n",
    "\n",
    "\n",
    "def plot_a_tree(tree=hof[0]):\n",
    "    red_nodes = []\n",
    "    purple_nodes = []\n",
    "    blue_nodes = []\n",
    "    for gid, g in enumerate(tree):\n",
    "        if (\n",
    "                hasattr(g, \"value\")\n",
    "                and isinstance(g.value, str)\n",
    "                and g.value.startswith(\"ARG\")\n",
    "        ):\n",
    "            g.value = g.value.replace(\"ARG\", \"X\")\n",
    "\n",
    "        if g.name in function_name:\n",
    "            g.name = function_name[g.name]\n",
    "\n",
    "        if hasattr(g, \"value\") and (\n",
    "                is_number(g.value)\n",
    "                or (g.value.startswith(\"X\") and int(g.value[1:]) < X.shape[1])\n",
    "        ):\n",
    "            # 基础节点\n",
    "            red_nodes.append(gid)\n",
    "        elif hasattr(g, \"value\") and g.value.startswith(\"X\"):\n",
    "            g.value = \"$\\phi$\" + str(int(g.value.replace(\"X\", \"\")) - X.shape[1] + 1)\n",
    "            purple_nodes.append(gid)\n",
    "        elif hasattr(g, \"value\") and g.value.startswith(\"$\\phi$\"):\n",
    "            purple_nodes.append(gid)\n",
    "        else:\n",
    "            # 深蓝色节点\n",
    "            blue_nodes.append(gid)\n",
    "    nodes, edges, labels = graph(tree)\n",
    "    g = nx.Graph()\n",
    "    g.add_nodes_from(nodes)\n",
    "    g.add_edges_from(edges)\n",
    "    pos = graphviz_layout(g, prog=\"dot\")\n",
    "    red_nodes_idx = [nodes.index(n) for n in nodes if n in red_nodes]\n",
    "    purple_nodes_idx = [nodes.index(n) for n in nodes if n in purple_nodes]\n",
    "    blue_nodes_idx = [nodes.index(n) for n in nodes if n in blue_nodes]\n",
    "    nx.draw_networkx_nodes(\n",
    "        g, pos, nodelist=red_nodes_idx, node_color=\"darkred\", node_size=500\n",
    "    )\n",
    "    nx.draw_networkx_nodes(\n",
    "        g, pos, nodelist=purple_nodes_idx, node_color=\"indigo\", node_size=500\n",
    "    )\n",
    "    nx.draw_networkx_nodes(\n",
    "        g, pos, nodelist=blue_nodes_idx, node_color=\"darkblue\", node_size=500\n",
    "    )\n",
    "    nx.draw_networkx_edges(g, pos)\n",
    "    nx.draw_networkx_labels(g, pos, labels, font_color=\"white\")\n",
    "\n",
    "\n",
    "plot_a_tree(hof[0])"
   ]
  }
 ],
 "metadata": {
  "kernelspec": {
   "display_name": "base",
   "language": "python",
   "name": "python3"
  },
  "language_info": {
   "codemirror_mode": {
    "name": "ipython",
    "version": 3
   },
   "file_extension": ".py",
   "mimetype": "text/x-python",
   "name": "python",
   "nbconvert_exporter": "python",
   "pygments_lexer": "ipython3",
   "version": "3.11.5"
  }
 },
 "nbformat": 4,
 "nbformat_minor": 5
}
