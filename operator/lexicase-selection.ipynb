{
 "cells": [
  {
   "cell_type": "markdown",
   "id": "ff6050dfa4dc1b6",
   "metadata": {
    "collapsed": false
   },
   "source": [
    "## Lexicase Selection 词典序选择 注意事项\n",
    "\n",
    "对于Lexicase Selection，适应度评估需要更改为返回多个误差组成的向量，而不是均方误差（MSE）。这样，Lexicase Selection才能独立考虑每个个体在每个测试样本上的表现，从而提高选择的多样性。"
   ]
  },
  {
   "cell_type": "code",
   "execution_count": 1,
   "id": "59cfefc0467c74ad",
   "metadata": {
    "ExecuteTime": {
     "end_time": "2023-11-07T09:06:58.369619300Z",
     "start_time": "2023-11-07T09:06:58.365066500Z"
    },
    "collapsed": false
   },
   "outputs": [],
   "source": [
    "import numpy as np\n",
    "import math\n",
    "import operator\n",
    "\n",
    "from deap import base, creator, tools, gp\n",
    "\n",
    "\n",
    "# 符号回归\n",
    "def evalSymbReg(individual, pset):\n",
    "    # 编译GP树为函数\n",
    "    func = gp.compile(expr=individual, pset=pset)\n",
    "    \n",
    "    # 使用numpy创建一个向量\n",
    "    x = np.linspace(-10, 10, 100) \n",
    "    \n",
    "    return tuple((func(x) - x**2)**2)\n",
    "\n",
    "\n",
    "# 创建个体和适应度函数，适应度数组大小与数据量相同\n",
    "creator.create(\"FitnessMin\", base.Fitness, weights=(-1.0,) * 100)  # 假设我们有20个数据点\n",
    "creator.create(\"Individual\", gp.PrimitiveTree, fitness=creator.FitnessMin)"
   ]
  },
  {
   "cell_type": "markdown",
   "id": "956e01e17271daa6",
   "metadata": {
    "collapsed": false
   },
   "source": [
    "### 遗传算子\n",
    "选择算子需要改成Lexicase Selection，其他不需要改变。对于回归问题，需要使用AutomaticEpsilonLexicase。而对于分类问题，则使用Lexicase即可。"
   ]
  },
  {
   "cell_type": "code",
   "execution_count": 2,
   "id": "851794d4d36e3681",
   "metadata": {
    "ExecuteTime": {
     "end_time": "2023-11-07T09:06:58.378447200Z",
     "start_time": "2023-11-07T09:06:58.370620700Z"
    },
    "collapsed": false
   },
   "outputs": [
    {
     "name": "stderr",
     "output_type": "stream",
     "text": [
      "/home/glk/project/anaconda3/lib/python3.11/site-packages/deap/gp.py:257: RuntimeWarning: Ephemeral rand101 function cannot be pickled because its generating function is a lambda function. Use functools.partial instead.\n",
      "  warnings.warn(\"Ephemeral {name} function cannot be \"\n"
     ]
    }
   ],
   "source": [
    "import random\n",
    "\n",
    "# 定义函数集合和终端集合\n",
    "pset = gp.PrimitiveSet(\"MAIN\", arity=1)\n",
    "pset.addPrimitive(operator.add, 2)\n",
    "pset.addPrimitive(operator.sub, 2)\n",
    "pset.addPrimitive(operator.mul, 2)\n",
    "pset.addPrimitive(operator.neg, 1)\n",
    "pset.addEphemeralConstant(\"rand101\", lambda: random.randint(-1, 1))\n",
    "pset.renameArguments(ARG0='x')\n",
    "\n",
    "# 定义遗传编程操作\n",
    "toolbox = base.Toolbox()\n",
    "toolbox.register(\"expr\", gp.genHalfAndHalf, pset=pset, min_=1, max_=2)\n",
    "toolbox.register(\"individual\", tools.initIterate, creator.Individual, toolbox.expr)\n",
    "toolbox.register(\"population\", tools.initRepeat, list, toolbox.individual)\n",
    "toolbox.register(\"compile\", gp.compile, pset=pset)\n",
    "toolbox.register(\"evaluate\", evalSymbReg, pset=pset)\n",
    "# 使用AutomaticEpsilonLexicase选择算子\n",
    "toolbox.register(\"select\", tools.selAutomaticEpsilonLexicase)\n",
    "toolbox.register(\"mate\", gp.cxOnePoint)\n",
    "toolbox.register(\"mutate\", gp.mutUniform, expr=toolbox.expr, pset=pset)"
   ]
  },
  {
   "cell_type": "markdown",
   "id": "d75bd14f",
   "metadata": {},
   "source": [
    "特别解释一下AutomaticEpsilonLexicase选择算子：\n",
    "1. 这是Lexicase Selection的一个变体\n",
    "2. 与普通的Lexicase Selection相比，它自动确定每个测试用例的容差（epsilon）\n",
    "3. 这个算子特别适合回归问题，因为它能够：\n",
    "   - 自动处理不同尺度的误差\n",
    "   - 在保持选择压力的同时允许一定的误差容忍度\n",
    "   - 特别适合处理有噪声的数据\n",
    "\n",
    "举个具体例子来说明为什么要用AutomaticEpsilonLexicase：\n",
    "```python\n",
    "# 假设我们有这样的回归问题数据点：\n",
    "测试点1: f(0.1) = 0.01      # 小尺度\n",
    "测试点2: f(10) = 100        # 大尺度\n",
    "测试点3: f(100) = 10000     # 更大尺度\n",
    "\n",
    "# 普通的Lexicase Selection可能会过分注重绝对误差\n",
    "# 而AutomaticEpsilonLexicase会根据数据尺度自动调整容差：\n",
    "epsilon1 ≈ 0.001   # 对小尺度数据用小容差\n",
    "epsilon2 ≈ 1       # 对中等尺度数据用中等容差\n",
    "epsilon3 ≈ 100     # 对大尺度数据用大容差\n",
    "```\n",
    "\n",
    "所以说\"对于回归问题，需要使用AutomaticEpsilonLexicase，而对于分类问题，则使用Lexicase即可\"的原因是：\n",
    "- 回归问题涉及连续值，需要考虑误差容差\n",
    "- 分类问题是离散的，只需考虑对错，不需要容差机制\n",
    "\n",
    "这样的设置能让算法：\n",
    "1. 更好地处理不同尺度的数值问题\n",
    "2. 在保持选择压力的同时有适当的容错能力\n",
    "3. 避免因为数值尺度差异导致的选择偏差"
   ]
  },
  {
   "cell_type": "code",
   "execution_count": 3,
   "id": "515b587d4f8876ea",
   "metadata": {
    "ExecuteTime": {
     "end_time": "2023-11-07T09:07:09.006767300Z",
     "start_time": "2023-11-07T09:06:58.377448600Z"
    },
    "collapsed": false
   },
   "outputs": [
    {
     "name": "stdout",
     "output_type": "stream",
     "text": [
      "   \t      \t                        fitness                        \t                      size                     \n",
      "   \t      \t-------------------------------------------------------\t-----------------------------------------------\n",
      "gen\tnevals\tavg   \tgen\tmax  \tmin        \tnevals\tstd    \tavg \tgen\tmax\tmin\tnevals\tstd    \n",
      "0  \t20    \t2107.6\t0  \t12544\t0.000104102\t20    \t2866.19\t3.75\t0  \t7  \t2  \t20    \t1.29904\n",
      "1  \t15    \t2117.9\t1  \t14400\t0.00683013 \t15    \t2927.31\t4.65\t1  \t7  \t2  \t15    \t1.55804\n",
      "2  \t8     \t2040.69\t2  \t16900\t0          \t8     \t3034.84\t5.55\t2  \t9  \t2  \t8     \t2.08507\n",
      "3  \t14    \t30541  \t3  \t4e+06\t0          \t14    \t261371 \t8.25\t3  \t13 \t3  \t14    \t2.52735\n",
      "4  \t15    \t528.888\t4  \t11881\t0          \t15    \t1656.36\t8.55\t4  \t15 \t3  \t15    \t3.04097\n",
      "5  \t9     \t946.808\t5  \t48400\t0          \t9     \t3536.53\t8.75\t5  \t16 \t3  \t9     \t2.56661\n",
      "6  \t12    \t8429.42\t6  \t1.21e+06\t0          \t12    \t67549.6\t8.5 \t6  \t14 \t3  \t12    \t2.99166\n",
      "7  \t14    \t523.787\t7  \t12100   \t0          \t14    \t1684.73\t9.2 \t7  \t19 \t3  \t14    \t4.91528\n",
      "8  \t14    \t629.505\t8  \t12100   \t0          \t14    \t1804.88\t10.45\t8  \t19 \t3  \t14    \t4.68482\n",
      "9  \t12    \t31058  \t9  \t4e+06   \t0          \t12    \t261329 \t13.6 \t9  \t25 \t3  \t12    \t5.48999\n",
      "10 \t13    \t8103.57\t10 \t1.21e+06\t0          \t13    \t67574.2\t11.85\t10 \t22 \t3  \t13    \t4.87109\n",
      "11 \t11    \t315.603\t11 \t12100   \t0          \t11    \t1322.93\t10.4 \t11 \t18 \t3  \t11    \t4.76865\n",
      "12 \t11    \t417.97 \t12 \t12100   \t0          \t11    \t1508.73\t9.3  \t12 \t18 \t3  \t11    \t5.58659\n",
      "13 \t12    \t631.205\t13 \t40000   \t0          \t12    \t3257.21\t8.5  \t13 \t18 \t3  \t12    \t5.86941\n",
      "14 \t13    \t655565 \t14 \t1.4641e+08\t0          \t13    \t6.7061e+06\t8.1  \t14 \t21 \t3  \t13    \t6.39453\n",
      "15 \t8     \t211.535\t15 \t12100     \t0          \t8     \t1117.65   \t6.85 \t15 \t21 \t3  \t8     \t6.09323\n",
      "16 \t13    \t1354.58\t16 \t40000     \t0          \t13    \t5256.54   \t9.55 \t16 \t21 \t3  \t13    \t6.89547\n",
      "17 \t16    \t417.97 \t17 \t12100     \t0          \t16    \t1508.73   \t8.7  \t17 \t21 \t3  \t16    \t6.27774\n",
      "18 \t16    \t627.805\t18 \t12100     \t0          \t16    \t1818      \t9.9  \t18 \t33 \t2  \t16    \t7.9177 \n",
      "19 \t9     \t7997.8 \t19 \t1.21e+06  \t0          \t9     \t67582     \t13.25\t19 \t33 \t3  \t9     \t8.36585\n",
      "20 \t8     \t0      \t20 \t0         \t0          \t8     \t0         \t10.9 \t20 \t21 \t3  \t8     \t6.65507\n",
      "mul(add(x, neg(mul(0, 1))), x)\n"
     ]
    }
   ],
   "source": [
    "import numpy\n",
    "from deap import algorithms\n",
    "\n",
    "# 定义统计指标\n",
    "stats_fit = tools.Statistics(lambda ind: ind.fitness.values)\n",
    "stats_size = tools.Statistics(len)\n",
    "mstats = tools.MultiStatistics(fitness=stats_fit, size=stats_size)\n",
    "mstats.register(\"avg\", numpy.mean)\n",
    "mstats.register(\"std\", numpy.std)\n",
    "mstats.register(\"min\", numpy.min)\n",
    "mstats.register(\"max\", numpy.max)\n",
    "\n",
    "# 使用默认算法\n",
    "population = toolbox.population(n=20)\n",
    "hof = tools.HallOfFame(1)\n",
    "pop, log  = algorithms.eaSimple(population=population,\n",
    "                           toolbox=toolbox, cxpb=0.5, mutpb=0.2, ngen=20, stats=mstats, halloffame=hof, verbose=True)\n",
    "print(str(hof[0]))\n"
   ]
  }
 ],
 "metadata": {
  "kernelspec": {
   "display_name": "base",
   "language": "python",
   "name": "python3"
  },
  "language_info": {
   "codemirror_mode": {
    "name": "ipython",
    "version": 3
   },
   "file_extension": ".py",
   "mimetype": "text/x-python",
   "name": "python",
   "nbconvert_exporter": "python",
   "pygments_lexer": "ipython3",
   "version": "3.11.5"
  }
 },
 "nbformat": 4,
 "nbformat_minor": 5
}
