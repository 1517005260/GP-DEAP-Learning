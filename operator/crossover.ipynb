{
 "cells": [
  {
   "cell_type": "markdown",
   "id": "8db4ada5ce6ebf73",
   "metadata": {
    "collapsed": false
   },
   "source": [
    "### Crossover算子\n",
    "值得一提的是，DEAP中GP默认实现的Crossover算子不考虑根节点。因此，如果要按照GP的原始论文实现，需要稍作修改。"
   ]
  },
  {
   "cell_type": "code",
   "execution_count": 1,
   "id": "initial_id",
   "metadata": {
    "ExecuteTime": {
     "end_time": "2023-11-07T08:49:09.672369400Z",
     "start_time": "2023-11-07T08:49:09.564823400Z"
    },
    "collapsed": false
   },
   "outputs": [],
   "source": [
    "import time\n",
    "\n",
    "import numpy as np\n",
    "from deap import base, creator, tools, gp\n",
    "\n",
    "\n",
    "# 符号回归\n",
    "def evalSymbReg(individual, pset):\n",
    "    # 编译GP树为函数\n",
    "    func = gp.compile(expr=individual, pset=pset)\n",
    "    \n",
    "    # 使用numpy创建一个向量\n",
    "    x = np.linspace(-10, 10, 100) \n",
    "    \n",
    "    # 评估生成的函数并计算MSE\n",
    "    mse = np.mean((func(x) - x**2)**2)\n",
    "    \n",
    "    return (mse,)\n",
    "\n",
    "# 创建个体和适应度函数\n",
    "creator.create(\"FitnessMin\", base.Fitness, weights=(-1.0,))\n",
    "creator.create(\"Individual\", gp.PrimitiveTree, fitness=creator.FitnessMin)"
   ]
  },
  {
   "cell_type": "markdown",
   "id": "e3d94e424b58af5a",
   "metadata": {
    "collapsed": false
   },
   "source": [
    "具体来说，需要修改交叉点的取值范围，以包括根节点。"
   ]
  },
  {
   "cell_type": "code",
   "execution_count": 2,
   "id": "5dde655dc691a423",
   "metadata": {
    "ExecuteTime": {
     "end_time": "2023-11-07T08:49:09.678933300Z",
     "start_time": "2023-11-07T08:49:09.675377100Z"
    },
    "collapsed": false
   },
   "outputs": [],
   "source": [
    "from collections import defaultdict\n",
    "\n",
    "__type__ = object\n",
    "\n",
    "def cxOnePoint(ind1, ind2):\n",
    "    # List all available primitive types in each individual\n",
    "    types1 = defaultdict(list)\n",
    "    types2 = defaultdict(list)\n",
    "    if ind1.root.ret == __type__:\n",
    "        # Not STGP optimization\n",
    "        types1[__type__] = list(range(0, len(ind1)))\n",
    "        types2[__type__] = list(range(0, len(ind2)))\n",
    "        common_types = [__type__]\n",
    "    else:\n",
    "        for idx, node in enumerate(ind1[0:], 1):\n",
    "            types1[node.ret].append(idx)\n",
    "        for idx, node in enumerate(ind2[0:], 1):\n",
    "            types2[node.ret].append(idx)\n",
    "        common_types = set(types1.keys()).intersection(set(types2.keys()))\n",
    "\n",
    "    if len(common_types) > 0:\n",
    "        type_ = random.choice(list(common_types))\n",
    "\n",
    "        index1 = random.choice(types1[type_])\n",
    "        index2 = random.choice(types2[type_])\n",
    "\n",
    "        slice1 = ind1.searchSubtree(index1)\n",
    "        slice2 = ind2.searchSubtree(index2)\n",
    "        ind1[slice1], ind2[slice2] = ind2[slice2], ind1[slice1]\n",
    "\n",
    "    return ind1, ind2"
   ]
  },
  {
   "cell_type": "code",
   "execution_count": 3,
   "id": "cb6cf38094256262",
   "metadata": {
    "ExecuteTime": {
     "end_time": "2023-11-07T08:49:09.694753600Z",
     "start_time": "2023-11-07T08:49:09.680991300Z"
    },
    "collapsed": false
   },
   "outputs": [
    {
     "name": "stderr",
     "output_type": "stream",
     "text": [
      "/home/glk/project/anaconda3/lib/python3.11/site-packages/deap/gp.py:257: RuntimeWarning: Ephemeral rand101 function cannot be pickled because its generating function is a lambda function. Use functools.partial instead.\n",
      "  warnings.warn(\"Ephemeral {name} function cannot be \"\n"
     ]
    }
   ],
   "source": [
    "import random\n",
    "\n",
    "# 定义函数集合和终端集合\n",
    "pset = gp.PrimitiveSet(\"MAIN\", arity=1)\n",
    "pset.addPrimitive(np.add, 2)\n",
    "pset.addPrimitive(np.subtract, 2)\n",
    "pset.addPrimitive(np.multiply, 2)\n",
    "pset.addPrimitive(np.negative, 1)\n",
    "pset.addEphemeralConstant(\"rand101\", lambda: random.randint(-1, 1))\n",
    "pset.renameArguments(ARG0='x')\n",
    "\n",
    "# 定义遗传编程操作\n",
    "toolbox = base.Toolbox()\n",
    "toolbox.register(\"expr\", gp.genHalfAndHalf, pset=pset, min_=1, max_=2)\n",
    "toolbox.register(\"individual\", tools.initIterate, creator.Individual, toolbox.expr)\n",
    "toolbox.register(\"population\", tools.initRepeat, list, toolbox.individual)\n",
    "toolbox.register(\"compile\", gp.compile, pset=pset)\n",
    "toolbox.register(\"evaluate\", evalSymbReg, pset=pset)\n",
    "toolbox.register(\"select\", tools.selTournament, tournsize=3)\n",
    "toolbox.register(\"mate\", cxOnePoint)\n",
    "toolbox.register(\"mutate\", gp.mutUniform, expr=toolbox.expr, pset=pset)"
   ]
  },
  {
   "cell_type": "code",
   "execution_count": 4,
   "id": "88c62bc071d56191",
   "metadata": {
    "ExecuteTime": {
     "end_time": "2023-11-07T08:49:12.030799500Z",
     "start_time": "2023-11-07T08:49:09.694753600Z"
    },
    "collapsed": false
   },
   "outputs": [
    {
     "name": "stdout",
     "output_type": "stream",
     "text": [
      "   \t      \t                    fitness                    \t                      size                     \n",
      "   \t      \t-----------------------------------------------\t-----------------------------------------------\n",
      "gen\tnevals\tavg    \tgen\tmax   \tmin\tnevals\tstd    \tavg    \tgen\tmax\tmin\tnevals\tstd    \n",
      "0  \t300   \t3301.28\t0  \t153712\t0  \t300   \t12451.3\t4.02667\t0  \t7  \t2  \t300   \t1.67111\n",
      "1  \t168   \t3939.35\t1  \t159956\t0  \t168   \t17617.1\t4.56333\t1  \t11 \t1  \t168   \t2.21193\n",
      "2  \t178   \t159799 \t2  \t4.69134e+07\t0  \t178   \t2.70387e+06\t4.86667\t2  \t16 \t1  \t178   \t2.7207 \n",
      "3  \t182   \t5691.28\t3  \t159821     \t0  \t182   \t24620.6    \t5.23667\t3  \t15 \t1  \t182   \t2.74845\n",
      "4  \t164   \t5353.98\t4  \t153712     \t0  \t164   \t24489.9    \t5.54667\t4  \t15 \t1  \t164   \t2.99352\n",
      "5  \t170   \t9646.87\t5  \t159956     \t0  \t170   \t35453.2    \t5.38667\t5  \t22 \t1  \t170   \t3.38583\n",
      "6  \t191   \t52366.6\t6  \t1.18774e+07\t0  \t191   \t685076     \t4.98667\t6  \t18 \t1  \t191   \t2.95181\n",
      "7  \t190   \t14822.3\t7  \t608604     \t0  \t190   \t53512.8    \t5.32   \t7  \t19 \t1  \t190   \t3.2646 \n",
      "8  \t182   \t14887.1\t8  \t608604     \t0  \t182   \t53350.4    \t5.56333\t8  \t21 \t1  \t182   \t3.55518\n",
      "9  \t187   \t15181.2\t9  \t608604     \t0  \t187   \t61817.4    \t5.78667\t9  \t25 \t1  \t187   \t4.00597\n",
      "10 \t174   \t16772.9\t10 \t608604     \t0  \t174   \t55644.9    \t5.92   \t10 \t20 \t1  \t174   \t3.66701\n",
      "11 \t195   \t60800.8\t11 \t1.26335e+07\t0  \t195   \t730008     \t6.15333\t11 \t22 \t1  \t195   \t4.34624\n",
      "12 \t176   \t375684 \t12 \t4.87163e+07\t0  \t176   \t3.20101e+06\t6.54333\t12 \t23 \t1  \t176   \t4.63697\n",
      "13 \t192   \t3.44064e+06\t13 \t1.00337e+09\t0  \t192   \t5.78359e+07\t7.18333\t13 \t28 \t1  \t192   \t5.4927 \n",
      "14 \t189   \t452138     \t14 \t4.75033e+07\t0  \t189   \t3.27066e+06\t7.95   \t14 \t25 \t1  \t189   \t5.92572\n",
      "15 \t168   \t3.55208e+06\t15 \t1.01539e+09\t0  \t168   \t5.85318e+07\t7.77   \t15 \t33 \t1  \t168   \t6.27724\n",
      "16 \t163   \t91645.2    \t16 \t1.23323e+07\t0  \t163   \t979042     \t7.92333\t16 \t26 \t1  \t163   \t6.37057\n",
      "17 \t183   \t3.55752e+06\t17 \t1.02757e+09\t0  \t183   \t5.92314e+07\t8.85667\t17 \t35 \t1  \t183   \t7.07221\n",
      "18 \t167   \t132183     \t18 \t1.20269e+07\t0  \t167   \t1.18659e+06\t9.81   \t18 \t47 \t1  \t167   \t7.55649\n",
      "19 \t171   \t3.43915e+06\t19 \t1.00337e+09\t0  \t171   \t5.78355e+07\t10.42  \t19 \t32 \t1  \t171   \t7.56903\n",
      "20 \t177   \t3.40208e+06\t20 \t1.00337e+09\t0  \t177   \t5.78348e+07\t12.41  \t20 \t39 \t1  \t177   \t8.2782 \n",
      "21 \t158   \t7.09862e+06\t21 \t1.05147e+09\t0  \t158   \t8.36281e+07\t14.2233\t21 \t41 \t1  \t158   \t8.57167\n",
      "22 \t192   \t167082     \t22 \t1.23323e+07\t0  \t192   \t1.38791e+06\t14.6133\t22 \t50 \t1  \t192   \t9.45677\n",
      "23 \t186   \t3.71518e+06\t23 \t1.00337e+09\t0  \t186   \t5.78984e+07\t16.2433\t23 \t50 \t1  \t186   \t10.3375\n",
      "24 \t179   \t3.46406e+15\t24 \t1.03922e+18\t0  \t179   \t5.98991e+16\t17.9567\t24 \t72 \t1  \t179   \t12.162 \n",
      "25 \t183   \t2.46236e+07\t25 \t4.06157e+09\t0  \t183   \t2.56746e+08\t18.2333\t25 \t67 \t1  \t183   \t13.2717\n",
      "26 \t175   \t2.95643e+08\t26 \t8.65576e+10\t0  \t175   \t4.98933e+09\t20.11  \t26 \t91 \t1  \t175   \t14.5828\n",
      "27 \t176   \t2.39679e+12\t27 \t7.18667e+14\t0  \t176   \t4.1423e+13 \t21.8267\t27 \t91 \t1  \t176   \t14.9132\n",
      "28 \t207   \t2.91883e+08\t28 \t8.5495e+10 \t0  \t207   \t4.92811e+09\t24.1667\t28 \t106\t1  \t207   \t16.8932\n",
      "29 \t164   \t3.67376e+06\t29 \t1.00337e+09\t0  \t164   \t5.78977e+07\t26.7733\t29 \t106\t1  \t164   \t18.9983\n",
      "30 \t171   \t3.46386e+15\t30 \t1.03916e+18\t0  \t171   \t5.98957e+16\t29.1433\t30 \t131\t1  \t171   \t19.6505\n",
      "31 \t192   \t3.22047e+14\t31 \t9.66141e+16\t0  \t192   \t5.56871e+15\t30.19  \t31 \t111\t1  \t192   \t19.5638\n",
      "32 \t178   \t1.3429e+07 \t32 \t3.96596e+09\t0  \t178   \t2.28586e+08\t32.6533\t32 \t101\t1  \t178   \t18.714 \n",
      "33 \t193   \t6.94116e+06\t33 \t1.01539e+09\t0  \t193   \t8.26274e+07\t32.7233\t33 \t110\t1  \t193   \t19.3006\n",
      "34 \t171   \t6.28029e+10\t34 \t1.11022e+13\t0  \t171   \t7.78642e+11\t35.08  \t34 \t119\t1  \t171   \t22.0654\n",
      "35 \t189   \t3.34457e+15\t35 \t1.00336e+18\t0  \t189   \t5.78326e+16\t36.2233\t35 \t118\t1  \t189   \t21.3484\n",
      "36 \t184   \t1.3509e+07 \t36 \t4.01346e+09\t0  \t184   \t2.31326e+08\t38.2867\t36 \t155\t1  \t184   \t22.1991\n",
      "37 \t197   \t9.0693e+12 \t37 \t2.72069e+15\t0  \t197   \t1.56817e+14\t41.1767\t37 \t155\t1  \t197   \t23.4266\n",
      "38 \t179   \t1.01109e+11\t38 \t3.02391e+13\t0  \t179   \t1.74294e+12\t45.6967\t38 \t144\t1  \t179   \t26.3228\n",
      "39 \t164   \t2.25993e+14\t39 \t6.77677e+16\t0  \t164   \t3.90604e+15\t47.47  \t39 \t145\t1  \t164   \t26.0981\n",
      "40 \t179   \t3.7122e+06 \t40 \t1.05147e+09\t0  \t179   \t6.06142e+07\t48.6867\t40 \t145\t1  \t179   \t28.1934\n",
      "41 \t187   \t2.7225e+10 \t41 \t8.16744e+12\t0  \t187   \t4.70761e+11\t53.3867\t41 \t192\t1  \t187   \t32.6332\n",
      "42 \t176   \t3.38786e+06\t42 \t1.01539e+09\t0  \t176   \t5.85257e+07\t56.7933\t42 \t194\t3  \t176   \t33.5912\n",
      "43 \t170   \t2.66785e+09\t43 \t7.98215e+11\t0  \t170   \t4.60077e+10\t57.3633\t43 \t194\t1  \t170   \t33.6111\n",
      "44 \t174   \t2.88608e+08\t44 \t8.65576e+10\t0  \t174   \t4.98906e+09\t56.98  \t44 \t200\t1  \t174   \t36.8683\n",
      "45 \t194   \t7.09639e+18\t45 \t2.12892e+21\t0  \t194   \t1.22708e+20\t57.38  \t45 \t200\t1  \t194   \t35.6784\n",
      "46 \t171   \t2.02208e+14\t46 \t6.0662e+16 \t0  \t171   \t3.49648e+15\t61.5   \t46 \t200\t1  \t171   \t38.5105\n",
      "47 \t185   \t2.08683e+14\t47 \t6.26049e+16\t0  \t185   \t3.60847e+15\t62.7233\t47 \t219\t1  \t185   \t40.6885\n",
      "48 \t176   \t3.21354e+17\t48 \t9.64061e+19\t0  \t176   \t5.55672e+18\t60.63  \t48 \t220\t1  \t176   \t37.7187\n",
      "49 \t171   \t3.54836e+06\t49 \t1.0399e+09 \t0  \t171   \t5.99417e+07\t60.4567\t49 \t202\t1  \t171   \t36.7187\n",
      "50 \t179   \t6.06874e+08\t50 \t9.14308e+10\t0  \t179   \t7.4035e+09 \t61.0767\t50 \t204\t1  \t179   \t35.6998\n",
      "time: 1.4330921173095703\n",
      "multiply(subtract(x, 0), x)\n"
     ]
    }
   ],
   "source": [
    "import numpy\n",
    "from deap import algorithms\n",
    "\n",
    "# 定义统计指标\n",
    "stats_fit = tools.Statistics(lambda ind: ind.fitness.values)\n",
    "stats_size = tools.Statistics(len)\n",
    "mstats = tools.MultiStatistics(fitness=stats_fit, size=stats_size)\n",
    "mstats.register(\"avg\", numpy.mean)\n",
    "mstats.register(\"std\", numpy.std)\n",
    "mstats.register(\"min\", numpy.min)\n",
    "mstats.register(\"max\", numpy.max)\n",
    "\n",
    "# 使用默认算法\n",
    "start=time.time()\n",
    "population = toolbox.population(n=300)\n",
    "hof = tools.HallOfFame(1)\n",
    "pop, log  = algorithms.eaSimple(population=population,\n",
    "                           toolbox=toolbox, cxpb=0.5, mutpb=0.2, ngen=50, stats=mstats, halloffame=hof, verbose=True)\n",
    "end=time.time()\n",
    "print('time:',end-start)\n",
    "print(str(hof[0]))"
   ]
  }
 ],
 "metadata": {
  "kernelspec": {
   "display_name": "base",
   "language": "python",
   "name": "python3"
  },
  "language_info": {
   "codemirror_mode": {
    "name": "ipython",
    "version": 3
   },
   "file_extension": ".py",
   "mimetype": "text/x-python",
   "name": "python",
   "nbconvert_exporter": "python",
   "pygments_lexer": "ipython3",
   "version": "3.11.5"
  }
 },
 "nbformat": 4,
 "nbformat_minor": 5
}
