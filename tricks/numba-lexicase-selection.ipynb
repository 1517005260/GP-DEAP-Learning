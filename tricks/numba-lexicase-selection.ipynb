{
 "cells": [
  {
   "cell_type": "markdown",
   "id": "ff6050dfa4dc1b6",
   "metadata": {},
   "source": [
    "## Lexicase Selection Numba加速\n",
    "\n",
    "DEAP中Lexicase Selection的默认实现速度较慢。因此，我们可以尝试使用Numba来加速它。\n",
    "Numba的原理是将Python代码编译为LLVM中间代码，然后再编译为机器码。从而显著提高Python代码的运行速度。"
   ]
  },
  {
   "cell_type": "code",
   "execution_count": 1,
   "id": "59cfefc0467c74ad",
   "metadata": {
    "ExecuteTime": {
     "end_time": "2023-12-25T03:39:37.866831400Z",
     "start_time": "2023-12-25T03:39:37.665471400Z"
    }
   },
   "outputs": [],
   "source": [
    "import numpy as np\n",
    "import math\n",
    "import operator\n",
    "\n",
    "from deap import base, creator, tools, gp\n",
    "import time\n",
    "\n",
    "\n",
    "# 符号回归\n",
    "def evalSymbReg(individual, pset):\n",
    "    # 编译GP树为函数\n",
    "    func = gp.compile(expr=individual, pset=pset)\n",
    "    \n",
    "    # 使用numpy创建一个向量\n",
    "    x = np.linspace(-10, 10, 100) \n",
    "    \n",
    "    return tuple((func(x) - x**2)**2)\n",
    "\n",
    "\n",
    "# 创建个体和适应度函数，适应度数组大小与数据量相同\n",
    "creator.create(\"FitnessMin\", base.Fitness, weights=(-1.0,) * 100)  # 假设我们有100个数据点\n",
    "creator.create(\"Individual\", gp.PrimitiveTree, fitness=creator.FitnessMin)"
   ]
  },
  {
   "cell_type": "markdown",
   "id": "956e01e17271daa6",
   "metadata": {},
   "source": [
    "### 遗传算子\n",
    "在使用Numba进行对Lexicase加速时，只需要重写Lexicase函数，加上@njit(cache=True)这个注解就可以了。\n",
    "需要注意一些特殊的函数可能不受Numba支持，但所有基本的Python运算符都是支持的。"
   ]
  },
  {
   "cell_type": "code",
   "execution_count": 2,
   "id": "c5dbeab9190022",
   "metadata": {
    "ExecuteTime": {
     "end_time": "2023-12-25T03:39:37.891395500Z",
     "start_time": "2023-12-25T03:39:37.870837200Z"
    }
   },
   "outputs": [],
   "source": [
    "from numba import njit\n",
    "import numpy as np\n",
    "\n",
    "\n",
    "@njit(cache=True)\n",
    "def selAutomaticEpsilonLexicaseNumba(case_values, fit_weights, k):\n",
    "    selected_individuals = []\n",
    "    avg_cases = 0\n",
    "\n",
    "    for i in range(k):\n",
    "        candidates = list(range(len(case_values)))\n",
    "        cases = np.arange(len(case_values[0]))\n",
    "        np.random.shuffle(cases)\n",
    "\n",
    "        while len(cases) > 0 and len(candidates) > 1:\n",
    "            errors_for_this_case = np.array(\n",
    "                [case_values[x][cases[0]] for x in candidates]\n",
    "            )\n",
    "            median_val = np.median(errors_for_this_case)\n",
    "            median_absolute_deviation = np.median(\n",
    "                np.array([abs(x - median_val) for x in errors_for_this_case])\n",
    "            )\n",
    "            if fit_weights > 0:\n",
    "                best_val_for_case = np.max(errors_for_this_case)\n",
    "                min_val_to_survive = best_val_for_case - median_absolute_deviation\n",
    "                candidates = list(\n",
    "                    [\n",
    "                        x\n",
    "                        for x in candidates\n",
    "                        if case_values[x][cases[0]] >= min_val_to_survive\n",
    "                    ]\n",
    "                )\n",
    "            else:\n",
    "                best_val_for_case = np.min(errors_for_this_case)\n",
    "                max_val_to_survive = best_val_for_case + median_absolute_deviation\n",
    "                candidates = list(\n",
    "                    [\n",
    "                        x\n",
    "                        for x in candidates\n",
    "                        if case_values[x][cases[0]] <= max_val_to_survive\n",
    "                    ]\n",
    "                )\n",
    "            cases = np.delete(cases, 0)\n",
    "        avg_cases = (avg_cases * i + (len(case_values[0]) - len(cases))) / (i + 1)\n",
    "        selected_individuals.append(np.random.choice(np.array(candidates)))\n",
    "    return selected_individuals, avg_cases\n",
    "\n",
    "def selAutomaticEpsilonLexicaseFast(individuals, k):\n",
    "    fit_weights = individuals[0].fitness.weights[0]\n",
    "    case_values = np.array([ind.fitness.values for ind in individuals])\n",
    "    index, avg_cases = selAutomaticEpsilonLexicaseNumba(case_values, fit_weights, k)\n",
    "    selected_individuals = [individuals[i] for i in index]\n",
    "    return selected_individuals"
   ]
  },
  {
   "cell_type": "markdown",
   "id": "dd9ea6c8",
   "metadata": {},
   "source": [
    "详细解释一下这段代码中使用 Numba 加速的原理。这涉及到几个关键概念:\n",
    "\n",
    "1. JIT(即时编译)原理:\n",
    "@njit 装饰器的核心作用是启用即时编译。当代码第一次运行时,Numba 会将 Python 代码编译成机器码。这与普通 Python 代码的解释执行方式有本质区别。机器码可以直接被 CPU 执行,不需要 Python 解释器的介入,从而获得接近原生 C/C++ 的性能。\n",
    "\n",
    "2. 静态类型特化:\n",
    "Numba 在编译过程中会对代码进行静态类型分析。在这段代码中:\n",
    "```python\n",
    "case_values = np.array([ind.fitness.values for ind in individuals])\n",
    "```\n",
    "当数据被转换为 NumPy 数组后,Numba 可以确定具体的数据类型(如 float64),从而生成优化的机器码。这避免了 Python 的动态类型检查开销。\n",
    "\n",
    "3. 循环优化:\n",
    "代码中包含多层嵌套循环:\n",
    "```python\n",
    "for i in range(k):\n",
    "    while len(cases) > 0 and len(candidates) > 1:\n",
    "        # 内层循环逻辑\n",
    "```\n",
    "Numba 会将这些 Python 循环转换为底层的循环指令,并应用循环展开、向量化等优化技术。这大大减少了循环迭代的开销。\n",
    "\n",
    "4. NumPy 操作优化:\n",
    "代码中大量使用了 NumPy 操作:\n",
    "```python\n",
    "np.median(errors_for_this_case)\n",
    "np.array([abs(x - median_val) for x in errors_for_this_case])\n",
    "```\n",
    "Numba 可以将这些高级操作直接映射到底层的 SIMD(单指令多数据)指令,实现并行计算。\n",
    "\n",
    "5. 内存访问优化:\n",
    "Numba 会优化数组访问模式,尽可能利用 CPU 缓存,减少内存访问延迟。例如,在处理 case_values 数组时,会尽量保持连续的内存访问。\n",
    "\n",
    "6. 缓存机制:\n",
    "注意到装饰器使用了 cache=True 参数:\n",
    "```python\n",
    "@njit(cache=True)\n",
    "```\n",
    "这启用了编译结果缓存。第一次运行后,编译好的机器码会被保存,后续运行可以直接使用,避免重复编译。\n",
    "\n",
    "实际加速效果:\n",
    "- 对于大规模数据(较大的 case_values 数组),加速效果可能达到几十倍甚至上百倍。\n",
    "- 但对于小规模数据,编译开销可能抵消性能提升。\n",
    "- 加速效果与代码的数值计算密集程度、循环结构、数组操作等特征有关。\n",
    "\n",
    "需要注意的限制:\n",
    "1. Numba 只能优化特定类型的操作,主要是数值计算和数组操作。\n",
    "2. 不支持复杂的 Python 对象操作和大多数 Python 标准库函数。\n",
    "3. 函数内部的代码需要符合 Numba 的类型推断规则。\n",
    "\n",
    "这段代码的优化效果很好,因为它主要包含:\n",
    "- 密集的数值计算\n",
    "- 大量的数组操作\n",
    "- 嵌套循环结构\n",
    "\n",
    "这些都是 Numba 擅长优化的场景。"
   ]
  },
  {
   "cell_type": "markdown",
   "id": "783887f49d890b79",
   "metadata": {},
   "source": [
    "在定义好了新的Lexicase选择算子之后，在注册选择算子的时候，将新的选择算子注册进去就可以了。"
   ]
  },
  {
   "cell_type": "code",
   "execution_count": 3,
   "id": "851794d4d36e3681",
   "metadata": {
    "ExecuteTime": {
     "end_time": "2023-12-25T03:39:37.964779400Z",
     "start_time": "2023-12-25T03:39:37.897670100Z"
    }
   },
   "outputs": [
    {
     "name": "stderr",
     "output_type": "stream",
     "text": [
      "/home/glk/project/anaconda3/lib/python3.11/site-packages/deap/gp.py:257: RuntimeWarning: Ephemeral rand101 function cannot be pickled because its generating function is a lambda function. Use functools.partial instead.\n",
      "  warnings.warn(\"Ephemeral {name} function cannot be \"\n"
     ]
    }
   ],
   "source": [
    "import random\n",
    "\n",
    "# 定义函数集合和终端集合\n",
    "pset = gp.PrimitiveSet(\"MAIN\", arity=1)\n",
    "pset.addPrimitive(operator.add, 2)\n",
    "pset.addPrimitive(operator.sub, 2)\n",
    "pset.addPrimitive(operator.mul, 2)\n",
    "pset.addPrimitive(operator.neg, 1)\n",
    "pset.addEphemeralConstant(\"rand101\", lambda: random.randint(-1, 1))\n",
    "pset.renameArguments(ARG0='x')\n",
    "\n",
    "# 定义遗传编程操作\n",
    "toolbox = base.Toolbox()\n",
    "toolbox.register(\"expr\", gp.genHalfAndHalf, pset=pset, min_=1, max_=2)\n",
    "toolbox.register(\"individual\", tools.initIterate, creator.Individual, toolbox.expr)\n",
    "toolbox.register(\"population\", tools.initRepeat, list, toolbox.individual)\n",
    "toolbox.register(\"compile\", gp.compile, pset=pset)\n",
    "toolbox.register(\"evaluate\", evalSymbReg, pset=pset)\n",
    "toolbox.register(\"select\", selAutomaticEpsilonLexicaseFast)\n",
    "toolbox.register(\"mate\", gp.cxOnePoint)\n",
    "toolbox.register(\"mutate\", gp.mutUniform, expr=toolbox.expr, pset=pset)"
   ]
  },
  {
   "cell_type": "markdown",
   "id": "62f30d17704db709",
   "metadata": {},
   "source": [
    "### 演化流程\n",
    "演化流程与传统符号回归相同。"
   ]
  },
  {
   "cell_type": "code",
   "execution_count": 4,
   "id": "515b587d4f8876ea",
   "metadata": {
    "ExecuteTime": {
     "end_time": "2023-12-25T03:39:39.571928900Z",
     "start_time": "2023-12-25T03:39:37.971234500Z"
    }
   },
   "outputs": [
    {
     "name": "stdout",
     "output_type": "stream",
     "text": [
      "   \t      \t                    fitness                    \t                      size                     \n",
      "   \t      \t-----------------------------------------------\t-----------------------------------------------\n",
      "gen\tnevals\tavg    \tgen\tmax  \tmin\tnevals\tstd    \tavg \tgen\tmax\tmin\tnevals\tstd    \n",
      "0  \t100   \t2138.36\t0  \t44100\t0  \t100   \t3358.48\t3.92\t0  \t7  \t2  \t100   \t1.61666\n",
      "1  \t96    \t358.01 \t1  \t40000\t0  \t96    \t2210.93\t3.11\t1  \t7  \t2  \t96    \t0.66174\n",
      "2  \t95    \t1831.59\t2  \t1e+06\t0  \t95    \t29443.9\t3.39\t2  \t9  \t2  \t95    \t1.19912\n",
      "3  \t91    \t355.239\t3  \t44100\t0  \t91    \t2509.99\t3.24\t3  \t7  \t3  \t91    \t0.763151\n",
      "4  \t94    \t2058.49\t4  \t1.21e+06\t0  \t94    \t30622.6\t3.44\t4  \t8  \t2  \t94    \t0.993177\n",
      "5  \t94    \t356.9  \t5  \t40000   \t0  \t94    \t1852.28\t3.33\t5  \t7  \t3  \t94    \t0.837317\n",
      "6  \t92    \t750.645\t6  \t160000  \t0  \t92    \t6084.76\t3.41\t6  \t8  \t3  \t92    \t1.03049 \n",
      "7  \t95    \t3261.56\t7  \t1.21e+06\t0  \t95    \t42248.4\t3.3 \t7  \t9  \t3  \t95    \t1.06301 \n",
      "8  \t88    \t1893.68\t8  \t1e+06   \t0  \t88    \t29471.1\t3.33\t8  \t9  \t3  \t88    \t1.23333 \n",
      "9  \t99    \t231.679\t9  \t40000   \t0  \t99    \t1659.96\t3.27\t9  \t9  \t3  \t99    \t0.925797\n",
      "10 \t95    \t1684.18\t10 \t1e+06   \t0  \t95    \t29413.9\t3.37\t10 \t9  \t3  \t95    \t1.17179 \n",
      "mul(x, x)\n",
      "   \t      \t                    fitness                    \t                      size                     \n",
      "   \t      \t-----------------------------------------------\t-----------------------------------------------\n",
      "gen\tnevals\tavg    \tgen\tmax  \tmin\tnevals\tstd    \tavg \tgen\tmax\tmin\tnevals\tstd    \n",
      "0  \t100   \t2320.32\t0  \t90000\t0  \t100   \t4657.53\t3.97\t0  \t7  \t2  \t100   \t1.73468\n",
      "1  \t94    \t10785.1\t1  \t4.41e+06\t0  \t94    \t125467 \t3.71\t1  \t9  \t3  \t94    \t1.23527\n",
      "2  \t96    \t5780.33\t2  \t1.21e+06\t0  \t96    \t52615.9\t3.62\t2  \t9  \t2  \t96    \t1.24724\n",
      "3  \t90    \t898.39 \t3  \t40000   \t0  \t90    \t4172.77\t3.41\t3  \t9  \t2  \t90    \t1.00095\n",
      "4  \t93    \t6379.51\t4  \t4.41e+06\t0  \t93    \t118550 \t3.39\t4  \t9  \t3  \t93    \t1.21569\n",
      "5  \t94    \t3473.78\t5  \t1.21e+06\t0  \t94    \t42953.7\t3.4 \t5  \t9  \t2  \t94    \t1.14018\n",
      "6  \t90    \t1745.25\t6  \t1e+06   \t0  \t90    \t29440.4\t3.33\t6  \t9  \t3  \t90    \t1.07754\n",
      "7  \t92    \t231.009\t7  \t44100   \t0  \t92    \t1664.55\t3.19\t7  \t7  \t2  \t92    \t0.770649\n",
      "8  \t97    \t356.209\t8  \t44100   \t0  \t97    \t2210.47\t3.29\t8  \t9  \t2  \t97    \t0.919728\n",
      "9  \t93    \t315.683\t9  \t40000   \t0  \t93    \t1784.03\t3.55\t9  \t9  \t3  \t93    \t1.21963 \n",
      "10 \t89    \t377.713\t10 \t44100   \t0  \t89    \t2240.92\t3.5 \t10 \t8  \t3  \t89    \t1.10905 \n",
      "mul(x, x)\n",
      "   \t      \t                    fitness                    \t                      size                     \n",
      "   \t      \t-----------------------------------------------\t-----------------------------------------------\n",
      "gen\tnevals\tavg    \tgen\tmax  \tmin\tnevals\tstd    \tavg \tgen\tmax\tmin\tnevals\tstd    \n",
      "0  \t100   \t2046.24\t0  \t40000\t0  \t100   \t3098.35\t3.82\t0  \t7  \t2  \t100   \t1.57721\n",
      "1  \t92    \t3514.73\t1  \t1.44e+06\t0  \t92    \t45022  \t3.31\t1  \t9  \t3  \t92    \t1.00693\n",
      "2  \t83    \t626.804\t2  \t90000   \t0  \t83    \t4697.41\t3.4 \t2  \t9  \t3  \t83    \t1.249  \n",
      "3  \t93    \t3305.29\t3  \t1.21e+06\t0  \t93    \t42938.7\t3.27\t3  \t8  \t2  \t93    \t0.892805\n",
      "4  \t92    \t459.607\t4  \t44100   \t0  \t92    \t2875.54\t3.25\t4  \t7  \t3  \t92    \t0.779423\n",
      "5  \t87    \t250.122\t5  \t12100   \t0  \t87    \t1189.07\t3.24\t5  \t7  \t3  \t87    \t0.722772\n",
      "6  \t96    \t399.887\t6  \t44100   \t0  \t96    \t2566.99\t3.32\t6  \t8  \t2  \t96    \t1.0284  \n",
      "7  \t93    \t1766.11\t7  \t1.21e+06\t0  \t93    \t30399.4\t3.22\t7  \t7  \t2  \t93    \t0.794733\n",
      "8  \t91    \t438.803\t8  \t90000   \t0  \t91    \t3530.35\t3.18\t8  \t7  \t2  \t91    \t0.669029\n",
      "9  \t90    \t1974.21\t9  \t1.21e+06\t0  \t90    \t30500.9\t3.19\t9  \t9  \t3  \t90    \t0.833007\n",
      "10 \t100   \t1663.02\t10 \t1.21e+06\t0  \t100   \t30395.3\t3.09\t10 \t8  \t2  \t100   \t0.633956\n",
      "mul(x, x)\n"
     ]
    }
   ],
   "source": [
    "import numpy\n",
    "from deap import algorithms\n",
    "\n",
    "# 定义统计指标\n",
    "stats_fit = tools.Statistics(lambda ind: ind.fitness.values)\n",
    "stats_size = tools.Statistics(len)\n",
    "mstats = tools.MultiStatistics(fitness=stats_fit, size=stats_size)\n",
    "mstats.register(\"avg\", numpy.mean)\n",
    "mstats.register(\"std\", numpy.std)\n",
    "mstats.register(\"min\", numpy.min)\n",
    "mstats.register(\"max\", numpy.max)\n",
    "\n",
    "# 使用Numba加速\n",
    "numba_lexicase_time = []\n",
    "for i in range(3):\n",
    "    start = time.time()\n",
    "    population = toolbox.population(n=100)\n",
    "    hof = tools.HallOfFame(1)\n",
    "    pop, log  = algorithms.eaSimple(population=population,\n",
    "                               toolbox=toolbox, cxpb=0.9, mutpb=0.1, ngen=10, stats=mstats, halloffame=hof, verbose=True)\n",
    "    end = time.time()\n",
    "    print(str(hof[0]))\n",
    "    numba_lexicase_time.append(end - start)\n"
   ]
  },
  {
   "cell_type": "markdown",
   "id": "98efab3037e032ea",
   "metadata": {},
   "source": [
    "为了展示Numba加速的效果，我们将使用纯Python实现的Lexicase Selection进行对比。"
   ]
  },
  {
   "cell_type": "code",
   "execution_count": 5,
   "id": "e1efd33d5f96a536",
   "metadata": {
    "ExecuteTime": {
     "end_time": "2023-12-25T03:45:33.479324Z",
     "start_time": "2023-12-25T03:39:39.565415500Z"
    }
   },
   "outputs": [
    {
     "name": "stdout",
     "output_type": "stream",
     "text": [
      "   \t      \t                       fitness                       \t                      size                     \n",
      "   \t      \t-----------------------------------------------------\t-----------------------------------------------\n",
      "gen\tnevals\tavg    \tgen\tmax     \tmin\tnevals\tstd  \tavg \tgen\tmax\tmin\tnevals\tstd    \n",
      "0  \t100   \t3850.03\t0  \t1.21e+06\t0  \t100   \t30603\t4.07\t0  \t7  \t2  \t100   \t1.66886\n",
      "1  \t91    \t62.7805\t1  \t12100   \t0  \t91    \t604.967\t3.08\t1  \t7  \t3  \t91    \t0.503587\n",
      "2  \t95    \t3325.71\t2  \t1.21e+06\t0  \t95    \t42954.9\t3.21\t2  \t9  \t2  \t95    \t0.851998\n",
      "3  \t86    \t3345.49\t3  \t1.21e+06\t0  \t86    \t43021.4\t3.27\t3  \t9  \t2  \t86    \t1.11225 \n",
      "4  \t89    \t2540.95\t4  \t1.21e+06\t0  \t89    \t30820.6\t3.57\t4  \t9  \t3  \t89    \t1.35096 \n",
      "5  \t90    \t1045.8 \t5  \t102400  \t0  \t90    \t5973.33\t3.46\t5  \t12 \t2  \t90    \t1.51275 \n",
      "6  \t90    \t188.001\t6  \t12100   \t0  \t90    \t1032.14\t3.29\t6  \t9  \t3  \t90    \t1.02269 \n",
      "7  \t96    \t125029 \t7  \t1.0201e+08\t0  \t96    \t2.67838e+06\t3.31\t7  \t9  \t2  \t96    \t1.14625 \n",
      "8  \t92    \t418.32 \t8  \t44100     \t0  \t92    \t2839.79    \t3.22\t8  \t9  \t2  \t92    \t0.819512\n",
      "9  \t96    \t2040.4 \t9  \t1.21e+06  \t0  \t96    \t30504.5    \t3.31\t9  \t9  \t2  \t96    \t1.09266 \n",
      "10 \t88    \t1872.57\t10 \t1.21e+06  \t0  \t88    \t30474.8    \t3.17\t10 \t8  \t2  \t88    \t0.775306\n",
      "mul(x, x)\n",
      "   \t      \t                       fitness                       \t                      size                     \n",
      "   \t      \t-----------------------------------------------------\t-----------------------------------------------\n",
      "gen\tnevals\tavg    \tgen\tmax     \tmin\tnevals\tstd  \tavg \tgen\tmax\tmin\tnevals\tstd    \n",
      "0  \t100   \t5303.41\t0  \t1.44e+06\t0  \t100   \t44984\t4.03\t0  \t7  \t2  \t100   \t1.78581\n",
      "1  \t94    \t9733.22\t1  \t1.2321e+06\t0  \t94    \t74200.9\t4.27\t1  \t9  \t3  \t94    \t1.74846\n",
      "2  \t91    \t4889.1 \t2  \t1.21e+06  \t0  \t91    \t52492.9\t3.99\t2  \t9  \t2  \t91    \t1.74066\n",
      "3  \t91    \t3393.29\t3  \t1.21e+06  \t0  \t91    \t42920.5\t3.74\t3  \t12 \t3  \t91    \t1.60387\n",
      "4  \t92    \t3325.71\t4  \t1.21e+06  \t0  \t92    \t42954.5\t3.46\t4  \t11 \t3  \t92    \t1.403  \n",
      "5  \t88    \t3471.4 \t5  \t1.44e+06  \t0  \t88    \t45038.5\t3.42\t5  \t9  \t3  \t88    \t1.28203\n",
      "6  \t86    \t481.82 \t6  \t44100     \t0  \t86    \t2639.83\t3.57\t6  \t9  \t3  \t86    \t1.38025\n",
      "7  \t94    \t170.979\t7  \t14400     \t0  \t94    \t1011.06\t3.55\t7  \t11 \t3  \t94    \t1.51245\n",
      "8  \t96    \t1705.01\t8  \t1.21e+06  \t0  \t96    \t30397.6\t3.38\t8  \t8  \t3  \t96    \t1.02742\n",
      "9  \t94    \t120792 \t9  \t1.1664e+08\t0  \t94    \t2.59102e+06\t3.41\t9  \t11 \t3  \t94    \t1.17554\n",
      "10 \t88    \t3680.89\t10 \t1.4641e+06\t0  \t88    \t45611.2    \t3.56\t10 \t9  \t3  \t88    \t1.45134\n",
      "mul(x, x)\n",
      "   \t      \t                        fitness                        \t                      size                     \n",
      "   \t      \t-------------------------------------------------------\t-----------------------------------------------\n",
      "gen\tnevals\tavg    \tgen\tmax     \tmin\tnevals\tstd    \tavg \tgen\tmax\tmin\tnevals\tstd    \n",
      "0  \t100   \t3800.85\t0  \t1.21e+06\t0  \t100   \t30509.7\t3.93\t0  \t7  \t2  \t100   \t1.62022\n",
      "1  \t93    \t3602.41\t1  \t1.21e+06\t0  \t93    \t42951.4\t3.95\t1  \t10 \t3  \t93    \t1.43091\n",
      "2  \t96    \t3387.51\t2  \t1.21e+06\t0  \t96    \t42919.9\t3.76\t2  \t12 \t3  \t96    \t1.52394\n",
      "3  \t90    \t2062.24\t3  \t1.21e+06\t0  \t90    \t30481.9\t3.47\t3  \t7  \t3  \t90    \t0.994535\n",
      "4  \t88    \t5218.37\t4  \t1.21e+06\t0  \t88    \t52547.5\t3.38\t4  \t9  \t2  \t88    \t1.02742 \n",
      "5  \t96    \t126.591\t5  \t40000   \t0  \t96    \t1469.02\t3.27\t5  \t9  \t2  \t96    \t1.01838 \n",
      "6  \t88    \t1933.94\t6  \t1.21e+06\t0  \t88    \t30452.7\t3.42\t6  \t9  \t3  \t88    \t1.16773 \n",
      "7  \t91    \t1956.11\t7  \t1.21e+06\t0  \t91    \t30573.3\t3.31\t7  \t9  \t2  \t91    \t1.11978 \n",
      "8  \t83    \t3450.58\t8  \t1.21e+06\t0  \t83    \t42970.2\t3.38\t8  \t8  \t3  \t83    \t1.04671 \n",
      "9  \t89    \t3326.04\t9  \t1.21e+06\t0  \t89    \t42248.4\t3.55\t9  \t9  \t3  \t89    \t1.32193 \n",
      "10 \t88    \t417.97 \t10 \t44100   \t0  \t88    \t2276.17\t3.39\t10 \t8  \t2  \t88    \t1.10359 \n",
      "mul(x, x)\n"
     ]
    }
   ],
   "source": [
    "# 使用纯Python实现的Lexicase Selection\n",
    "toolbox.register(\"select\", tools.selAutomaticEpsilonLexicase)\n",
    "python_lexicase_time = []\n",
    "for i in range(3):\n",
    "    start = time.time()\n",
    "    population = toolbox.population(n=100)\n",
    "    hof = tools.HallOfFame(1)\n",
    "    pop, log  = algorithms.eaSimple(population=population,\n",
    "                               toolbox=toolbox, cxpb=0.9, mutpb=0.1, ngen=10, stats=mstats, halloffame=hof, verbose=True)\n",
    "    end = time.time()\n",
    "    print(str(hof[0]))\n",
    "    python_lexicase_time.append(end - start)"
   ]
  },
  {
   "cell_type": "markdown",
   "id": "adae32e725d21dcf",
   "metadata": {},
   "source": [
    "下面是Numba加速和纯Python实现的Lexicase Selection的运行时间对比。从结果可以看出，Numba加速后的Lexicase Selection的运行速度远优于纯Python实现的Lexicase Selection。"
   ]
  },
  {
   "cell_type": "code",
   "execution_count": 6,
   "id": "3caf7686fef519a",
   "metadata": {
    "ExecuteTime": {
     "end_time": "2023-12-25T03:45:33.641210400Z",
     "start_time": "2023-12-25T03:45:33.479324Z"
    }
   },
   "outputs": [
    {
     "data": {
      "image/png": "[encoded data removed]",
      "text/plain": [
       "<Figure size 400x300 with 1 Axes>"
      ]
     },
     "metadata": {},
     "output_type": "display_data"
    }
   ],
   "source": [
    "import seaborn as sns\n",
    "import matplotlib.pyplot as plt\n",
    "import pandas as pd\n",
    "\n",
    "data = pd.DataFrame(\n",
    "    {'Category': ['Numba Lexicase'] * len(numba_lexicase_time) + ['Python Lexicase'] * len(python_lexicase_time),\n",
    "     'Time': np.concatenate([numba_lexicase_time, python_lexicase_time])})\n",
    "\n",
    "plt.figure(figsize=(4, 3))\n",
    "sns.set_style(\"whitegrid\")\n",
    "sns.boxplot(data=data, x='Category', y='Time', palette=\"Set3\", width=0.4)\n",
    "plt.title('Comparison of Numba and Pure Python')\n",
    "plt.xlabel('')\n",
    "plt.ylabel('Time')\n",
    "plt.show()"
   ]
  }
 ],
 "metadata": {
  "kernelspec": {
   "display_name": "base",
   "language": "python",
   "name": "python3"
  },
  "language_info": {
   "codemirror_mode": {
    "name": "ipython",
    "version": 3
   },
   "file_extension": ".py",
   "mimetype": "text/x-python",
   "name": "python",
   "nbconvert_exporter": "python",
   "pygments_lexer": "ipython3",
   "version": "3.11.5"
  }
 },
 "nbformat": 4,
 "nbformat_minor": 5
}
