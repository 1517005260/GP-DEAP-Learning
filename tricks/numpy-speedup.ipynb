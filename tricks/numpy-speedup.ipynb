{
 "cells": [
  {
   "cell_type": "markdown",
   "id": "8db4ada5ce6ebf73",
   "metadata": {},
   "source": [
    "### Numpy 加速\n",
    "Python 是一种相对较慢的编程语言，但是我们可以通过使用Numpy来加速Python的运算。Numpy是一个基于C语言的库，提供了许多高效的运算函数，例如矩阵运算和线性代数运算等。这些运算都基于C语言实现，因此速度非常快。\n",
    "\n",
    "GP的性能瓶颈通常在于模型评估。因此，在这里，我们重点关注如何加速评估函数。其实很简单，将数据集转换为Numpy数组，然后使用Numpy函数来计算MSE即可。下面是一个例子。"
   ]
  },
  {
   "cell_type": "code",
   "execution_count": 1,
   "id": "initial_id",
   "metadata": {
    "ExecuteTime": {
     "end_time": "2023-11-14T09:14:24.923043100Z",
     "start_time": "2023-11-14T09:14:24.908046400Z"
    }
   },
   "outputs": [],
   "source": [
    "import time\n",
    "\n",
    "import numpy as np\n",
    "from deap import base, creator, tools, gp\n",
    "\n",
    "\n",
    "# 符号回归\n",
    "def evalSymbReg(individual, pset):\n",
    "    # 编译GP树为函数\n",
    "    func = gp.compile(expr=individual, pset=pset)\n",
    "    \n",
    "    # 使用numpy创建一个向量\n",
    "    x = np.linspace(-10, 10, 100) \n",
    "    \n",
    "    # 评估生成的函数并计算MSE\n",
    "    mse = np.mean((func(x) - x**2)**2)\n",
    "    \n",
    "    return (mse,)\n",
    "\n",
    "# 创建个体和适应度函数\n",
    "creator.create(\"FitnessMin\", base.Fitness, weights=(-1.0,))\n",
    "creator.create(\"Individual\", gp.PrimitiveTree, fitness=creator.FitnessMin)\n"
   ]
  },
  {
   "cell_type": "markdown",
   "id": "e3d94e424b58af5a",
   "metadata": {},
   "source": [
    "同时，我们还可以考虑将一些算子替换为Numpy函数。尽管这并不是非常重要，因为Numpy已经重载了许多运算符。"
   ]
  },
  {
   "cell_type": "code",
   "execution_count": 2,
   "id": "cb6cf38094256262",
   "metadata": {
    "ExecuteTime": {
     "end_time": "2023-11-14T09:14:24.933166800Z",
     "start_time": "2023-11-14T09:14:24.927568400Z"
    }
   },
   "outputs": [],
   "source": [
    "import random\n",
    "\n",
    "# 定义函数集合和终端集合\n",
    "pset = gp.PrimitiveSet(\"MAIN\", arity=1)\n",
    "pset.addPrimitive(np.add, 2)\n",
    "pset.addPrimitive(np.subtract, 2)\n",
    "pset.addPrimitive(np.multiply, 2)\n",
    "pset.addPrimitive(np.negative, 1)\n",
    "def random_int(): return random.randint(-1, 1)\n",
    "pset.addEphemeralConstant(\"rand101\", random_int)\n",
    "pset.renameArguments(ARG0='x')\n",
    "\n",
    "# 定义遗传编程操作\n",
    "toolbox = base.Toolbox()\n",
    "toolbox.register(\"expr\", gp.genHalfAndHalf, pset=pset, min_=1, max_=2)\n",
    "toolbox.register(\"individual\", tools.initIterate, creator.Individual, toolbox.expr)\n",
    "toolbox.register(\"population\", tools.initRepeat, list, toolbox.individual)\n",
    "toolbox.register(\"compile\", gp.compile, pset=pset)\n",
    "toolbox.register(\"evaluate\", evalSymbReg, pset=pset)\n",
    "toolbox.register(\"select\", tools.selTournament, tournsize=3)\n",
    "toolbox.register(\"mate\", gp.cxOnePoint)\n",
    "toolbox.register(\"mutate\", gp.mutUniform, expr=toolbox.expr, pset=pset)"
   ]
  },
  {
   "cell_type": "markdown",
   "id": "e09fa8e7890d583b",
   "metadata": {},
   "source": [
    "现在，让我们来测试一下加速效果。"
   ]
  },
  {
   "cell_type": "code",
   "execution_count": 3,
   "id": "88c62bc071d56191",
   "metadata": {
    "ExecuteTime": {
     "end_time": "2023-11-14T09:14:25.525098600Z",
     "start_time": "2023-11-14T09:14:24.935256200Z"
    }
   },
   "outputs": [
    {
     "name": "stdout",
     "output_type": "stream",
     "text": [
      "   \t      \t                    fitness                    \t                      size                     \n",
      "   \t      \t-----------------------------------------------\t-----------------------------------------------\n",
      "gen\tnevals\tavg    \tgen\tmax   \tmin\tnevals\tstd    \tavg \tgen\tmax\tmin\tnevals\tstd    \n",
      "0  \t300   \t2766.75\t0  \t153712\t0  \t300   \t8877.46\t4.11\t0  \t7  \t2  \t300   \t1.74296\n",
      "1  \t274   \t2488.01\t1  \t153712\t0  \t274   \t8797.77\t4.45\t1  \t13 \t2  \t274   \t1.95299\n",
      "2  \t268   \t3219.64\t2  \t153712\t0  \t268   \t15082.5\t4.52333\t2  \t11 \t2  \t268   \t2.03047\n",
      "3  \t282   \t3344.96\t3  \t157909\t0  \t282   \t15152.3\t4.69   \t3  \t15 \t2  \t282   \t2.14023\n",
      "4  \t264   \t3064.63\t4  \t153712\t0  \t264   \t15213  \t4.53333\t4  \t13 \t2  \t264   \t1.86964\n",
      "5  \t277   \t3434.63\t5  \t155827\t0  \t277   \t17621.7\t4.46667\t5  \t15 \t2  \t277   \t1.96695\n",
      "6  \t281   \t2816.65\t6  \t153712\t0  \t281   \t17414.1\t4.13667\t6  \t13 \t2  \t281   \t1.87207\n",
      "7  \t281   \t43118.7\t7  \t1.23323e+07\t0  \t281   \t710861 \t3.92667\t7  \t11 \t3  \t281   \t1.71502\n",
      "8  \t287   \t42426.8\t8  \t1.23323e+07\t0  \t287   \t710851 \t3.63333\t8  \t13 \t2  \t287   \t1.46477\n",
      "9  \t271   \t3148.17\t9  \t153712     \t0  \t271   \t19551.2\t3.66333\t9  \t12 \t2  \t271   \t1.49777\n",
      "10 \t270   \t6013.83\t10 \t608604     \t0  \t270   \t41936.7\t3.49667\t10 \t13 \t2  \t270   \t1.29228\n",
      "time: 0.25288915634155273\n",
      "multiply(x, x)\n",
      "   \t      \t                    fitness                    \t                      size                     \n",
      "   \t      \t-----------------------------------------------\t-----------------------------------------------\n",
      "gen\tnevals\tavg    \tgen\tmax   \tmin\tnevals\tstd    \tavg    \tgen\tmax\tmin\tnevals\tstd    \n",
      "0  \t300   \t4204.83\t0  \t153712\t0  \t300   \t17404.5\t4.12667\t0  \t7  \t2  \t300   \t1.72934\n",
      "1  \t276   \t3584.74\t1  \t153712\t0  \t276   \t15077.7\t4.42667\t1  \t13 \t2  \t276   \t2.15359\n",
      "2  \t273   \t8712.36\t2  \t1.39798e+06\t0  \t273   \t82263.8\t4.96667\t2  \t15 \t2  \t273   \t2.56883\n",
      "3  \t263   \t4263.56\t3  \t153712     \t0  \t263   \t19473.3\t5.27   \t3  \t15 \t2  \t263   \t2.62496\n",
      "4  \t277   \t47154  \t4  \t1.21786e+07\t0  \t277   \t702118 \t5.70667\t4  \t19 \t2  \t277   \t2.79415\n",
      "5  \t266   \t49925.6\t5  \t1.18774e+07\t0  \t266   \t685620 \t6.3    \t5  \t17 \t2  \t266   \t2.99833\n",
      "6  \t263   \t10624.7\t6  \t157909     \t0  \t263   \t37126.6\t6.92333\t6  \t23 \t2  \t263   \t3.426  \n",
      "7  \t275   \t11644.3\t7  \t164153     \t0  \t275   \t39152.5\t7.37   \t7  \t20 \t2  \t275   \t4.01328\n",
      "8  \t271   \t90263.3\t8  \t1.20269e+07\t0  \t271   \t966387 \t7.87667\t8  \t28 \t2  \t271   \t4.56524\n",
      "9  \t274   \t131464 \t9  \t1.20269e+07\t0  \t274   \t1.19653e+06\t8.15333\t9  \t28 \t2  \t274   \t4.89998\n",
      "10 \t279   \t1.35929e+07\t10 \t4.07345e+09\t0  \t279   \t2.34787e+08\t8.29667\t10 \t28 \t3  \t279   \t5.33873\n",
      "time: 0.3242199420928955\n",
      "multiply(subtract(0, x), subtract(0, x))\n",
      "   \t      \t                    fitness                    \t                      size                     \n",
      "   \t      \t-----------------------------------------------\t-----------------------------------------------\n",
      "gen\tnevals\tavg    \tgen\tmax    \tmin\tnevals\tstd    \tavg \tgen\tmax\tmin\tnevals\tstd    \n",
      "0  \t300   \t2195.56\t0  \t18732.1\t0  \t300   \t1437.18\t3.97\t0  \t7  \t2  \t300   \t1.68793\n",
      "1  \t273   \t44691.6\t1  \t1.23323e+07\t0  \t273   \t710771 \t4.11\t1  \t14 \t2  \t273   \t1.97768\n",
      "2  \t276   \t3406.09\t2  \t159956     \t0  \t276   \t15296.5\t4.52333\t2  \t14 \t2  \t276   \t2.32582\n",
      "3  \t282   \t44478.2\t3  \t1.14287e+07\t0  \t282   \t658875 \t5.19667\t3  \t14 \t2  \t282   \t2.54519\n",
      "4  \t278   \t4152.95\t4  \t166506     \t0  \t278   \t19596.8\t5.52   \t4  \t16 \t2  \t278   \t2.83248\n",
      "5  \t269   \t7172.22\t5  \t164153     \t0  \t269   \t29103.1\t5.96   \t5  \t14 \t2  \t269   \t3.00195\n",
      "6  \t285   \t6443.16\t6  \t157909     \t0  \t285   \t27383.4\t6.03333\t6  \t17 \t2  \t285   \t3.04175\n",
      "7  \t275   \t48862.5\t7  \t1.26335e+07\t0  \t275   \t728338 \t6      \t7  \t15 \t3  \t275   \t2.93371\n",
      "8  \t263   \t93478.7\t8  \t1.26418e+07\t0  \t263   \t991981 \t5.54333\t8  \t16 \t2  \t263   \t3.05965\n",
      "9  \t285   \t5585.33\t9  \t157909     \t0  \t285   \t26199.8\t4.73667\t9  \t17 \t2  \t285   \t2.67594\n",
      "10 \t273   \t3696.42\t10 \t153712     \t0  \t273   \t21443.4\t4.34   \t10 \t14 \t2  \t273   \t2.31612\n",
      "time: 0.30826520919799805\n",
      "multiply(x, x)\n"
     ]
    }
   ],
   "source": [
    "import numpy\n",
    "from deap import algorithms\n",
    "\n",
    "# 定义统计指标\n",
    "stats_fit = tools.Statistics(lambda ind: ind.fitness.values)\n",
    "stats_size = tools.Statistics(len)\n",
    "mstats = tools.MultiStatistics(fitness=stats_fit, size=stats_size)\n",
    "mstats.register(\"avg\", numpy.mean)\n",
    "mstats.register(\"std\", numpy.std)\n",
    "mstats.register(\"min\", numpy.min)\n",
    "mstats.register(\"max\", numpy.max)\n",
    "\n",
    "# 使用默认算法\n",
    "np_time=[]\n",
    "for i in range(3):\n",
    "    start=time.time()\n",
    "    population = toolbox.population(n=300)\n",
    "    hof = tools.HallOfFame(1)\n",
    "    pop, log  = algorithms.eaSimple(population=population,\n",
    "                               toolbox=toolbox, cxpb=0.9, mutpb=0.1, ngen=10, stats=mstats, halloffame=hof, verbose=True)\n",
    "    end=time.time()\n",
    "    print('time:',end-start)\n",
    "    np_time.append(end-start)\n",
    "    print(str(hof[0]))"
   ]
  },
  {
   "cell_type": "markdown",
   "id": "be250c9740bc2817",
   "metadata": {},
   "source": [
    "对比下面的原始评估函数，使用Numpy的加速效果还是非常明显的。"
   ]
  },
  {
   "cell_type": "code",
   "execution_count": 4,
   "id": "f2ddb57d24051753",
   "metadata": {
    "ExecuteTime": {
     "end_time": "2023-11-14T09:14:27.572677800Z",
     "start_time": "2023-11-14T09:14:25.521044600Z"
    }
   },
   "outputs": [
    {
     "name": "stdout",
     "output_type": "stream",
     "text": [
      "   \t      \t                       fitness                        \t                      size                     \n",
      "   \t      \t------------------------------------------------------\t-----------------------------------------------\n",
      "gen\tnevals\tavg    \tgen\tmax        \tmin\tnevals\tstd   \tavg    \tgen\tmax\tmin\tnevals\tstd    \n",
      "0  \t300   \t46421.7\t0  \t1.17166e+07\t0  \t300   \t676811\t4.09333\t0  \t7  \t2  \t300   \t1.66872\n",
      "1  \t268   \t2873.24\t1  \t153622     \t0  \t268   \t12394.6\t4.08   \t1  \t12 \t2  \t268   \t1.65538\n",
      "2  \t280   \t2332.44\t2  \t153622     \t0  \t280   \t8874.81\t4.35   \t2  \t11 \t2  \t280   \t1.83144\n",
      "3  \t268   \t3895.82\t3  \t159864     \t0  \t268   \t17600.9\t4.50333\t3  \t12 \t2  \t268   \t1.77857\n",
      "4  \t273   \t3744.34\t4  \t159864     \t0  \t273   \t17733.1\t4.60333\t4  \t17 \t2  \t273   \t2.12116\n",
      "5  \t277   \t44273.3\t5  \t1.17166e+07\t0  \t277   \t675477 \t4.20667\t5  \t15 \t2  \t277   \t1.86117\n",
      "6  \t264   \t5315.34\t6  \t155737     \t0  \t264   \t26123.2\t4.13333\t6  \t11 \t3  \t264   \t1.76698\n",
      "7  \t273   \t7673.51\t7  \t608247     \t0  \t273   \t44427  \t3.79333\t7  \t15 \t2  \t273   \t1.65448\n",
      "8  \t277   \t43176.9\t8  \t1.17166e+07\t0  \t277   \t675489 \t3.58667\t8  \t13 \t3  \t277   \t1.3301 \n",
      "9  \t259   \t2348.91\t9  \t159864     \t0  \t259   \t17793.3\t3.47667\t9  \t9  \t2  \t259   \t1.17875\n",
      "10 \t269   \t1449.7 \t10 \t153622     \t0  \t269   \t12556.9\t3.43333\t10 \t9  \t2  \t269   \t1.10705\n",
      "time: 0.6115329265594482\n",
      "   \t      \t                    fitness                    \t                      size                     \n",
      "   \t      \t-----------------------------------------------\t-----------------------------------------------\n",
      "gen\tnevals\tavg    \tgen\tmax   \tmin\tnevals\tstd    \tavg \tgen\tmax\tmin\tnevals\tstd    \n",
      "0  \t300   \t2795.02\t0  \t159864\t0  \t300   \t9253.43\t3.88\t0  \t7  \t2  \t300   \t1.63267\n",
      "1  \t274   \t3.34485e+06\t1  \t1.0024e+09\t0  \t274   \t5.77769e+07\t3.97667\t1  \t11 \t2  \t274   \t1.75008\n",
      "2  \t279   \t4153.22    \t2  \t157817    \t0  \t279   \t17550.4    \t4.42   \t2  \t11 \t2  \t279   \t1.98753\n",
      "3  \t280   \t3040.59    \t3  \t153622    \t0  \t280   \t12324.5    \t4.82333\t3  \t14 \t2  \t280   \t2.26983\n",
      "4  \t271   \t5941.14    \t4  \t614489    \t0  \t271   \t39307.1    \t5.01667\t4  \t15 \t2  \t271   \t2.30573\n",
      "5  \t256   \t3755.51    \t5  \t159864    \t0  \t256   \t17647.1    \t5.50667\t5  \t14 \t2  \t256   \t2.59293\n",
      "6  \t271   \t5983.51    \t6  \t157817    \t0  \t271   \t24679.8    \t5.83333\t6  \t18 \t2  \t271   \t2.86337\n",
      "7  \t265   \t165399     \t7  \t4.74663e+07\t0  \t265   \t2.73563e+06\t5.99667\t7  \t20 \t2  \t265   \t2.91947\n",
      "8  \t268   \t8410.89    \t8  \t591672     \t0  \t268   \t43486.3    \t5.92333\t8  \t18 \t2  \t268   \t3.11942\n",
      "9  \t269   \t49174.2    \t9  \t1.23228e+07\t0  \t269   \t710542     \t5.38667\t9  \t21 \t2  \t269   \t3.14597\n",
      "10 \t274   \t10136.3    \t10 \t166344     \t0  \t274   \t36546      \t4.60667\t10 \t19 \t3  \t274   \t2.51236\n",
      "time: 0.7687737941741943\n",
      "   \t      \t                    fitness                    \t                     size                     \n",
      "   \t      \t-----------------------------------------------\t----------------------------------------------\n",
      "gen\tnevals\tavg    \tgen\tmax   \tmin\tnevals\tstd    \tavg    \tgen\tmax\tmin\tnevals\tstd   \n",
      "0  \t300   \t3744.63\t0  \t153622\t0  \t300   \t15065.8\t4.05667\t0  \t7  \t2  \t300   \t1.7263\n",
      "1  \t262   \t1953.96\t1  \t8356.11\t0  \t262   \t795.632\t4.04333\t1  \t11 \t2  \t262   \t1.7874\n",
      "2  \t274   \t1910.45\t2  \t8356.11\t0  \t274   \t1100.65\t4.4    \t2  \t13 \t2  \t274   \t2.14009\n",
      "3  \t266   \t6395.55\t3  \t608247 \t0  \t266   \t39873.1\t5.09667\t3  \t18 \t2  \t266   \t2.56528\n",
      "4  \t266   \t6088.88\t4  \t159864 \t0  \t266   \t25960  \t5.42   \t4  \t17 \t2  \t266   \t2.61093\n",
      "5  \t272   \t11094.7\t5  \t159864 \t0  \t272   \t37115.9\t4.93   \t5  \t18 \t2  \t272   \t2.55443\n",
      "6  \t278   \t1829.39\t6  \t155737 \t0  \t278   \t12597.6\t4.34667\t6  \t15 \t2  \t278   \t2.21656\n",
      "7  \t271   \t2574.51\t7  \t155737 \t0  \t271   \t17697.7\t3.70333\t7  \t15 \t2  \t271   \t1.53253\n",
      "8  \t270   \t3575.31\t8  \t153622 \t0  \t270   \t21562.5\t3.43667\t8  \t9  \t2  \t270   \t1.09209\n",
      "9  \t265   \t3047.54\t9  \t153622 \t0  \t265   \t19675.8\t3.44333\t9  \t9  \t2  \t265   \t1.07088\n",
      "10 \t262   \t3.34469e+06\t10 \t1.0024e+09\t0  \t262   \t5.77769e+07\t3.45667\t10 \t11 \t2  \t262   \t1.17535\n",
      "time: 0.6492431163787842\n"
     ]
    }
   ],
   "source": [
    "# 慢速评估\n",
    "def evalSymbRegSlow(individual, pset):\n",
    "    # 编译GP树为函数\n",
    "    func = gp.compile(expr=individual, pset=pset)\n",
    "    \n",
    "    # 创建评估数据\n",
    "    xs = [x/5.0 for x in range(-50, 51)]\n",
    "    \n",
    "    # 评估生成的函数并计算MSE\n",
    "    mse = sum((func(x) - x**2)**2 for x in xs) / len(xs)\n",
    "    \n",
    "    return (mse,)\n",
    "\n",
    "toolbox.register(\"evaluate\", evalSymbRegSlow, pset=pset)\n",
    "\n",
    "py_time=[]\n",
    "for i in range(3):\n",
    "    start=time.time()\n",
    "    population = toolbox.population(n=300)\n",
    "    hof = tools.HallOfFame(1)\n",
    "    pop, log  = algorithms.eaSimple(population=population,\n",
    "                               toolbox=toolbox, cxpb=0.9, mutpb=0.1, ngen=10, stats=mstats, halloffame=hof, verbose=True)\n",
    "    end=time.time()\n",
    "    print('time:',end-start)\n",
    "    py_time.append(end-start)"
   ]
  },
  {
   "cell_type": "markdown",
   "id": "75ed499f209894ae",
   "metadata": {},
   "source": [
    "最后，我们可以使用seaborn绘制一个图来比较Numpy和Python的性能。可以看出，Numpy显著提高了速度。"
   ]
  },
  {
   "cell_type": "code",
   "execution_count": 5,
   "id": "f09f85635ed36092",
   "metadata": {
    "ExecuteTime": {
     "end_time": "2023-11-14T09:24:29.905469100Z",
     "start_time": "2023-11-14T09:24:29.810538800Z"
    }
   },
   "outputs": [
    {
     "data": {
      "image/png": "[encoded data removed]",
      "text/plain": [
       "<Figure size 400x300 with 1 Axes>"
      ]
     },
     "metadata": {},
     "output_type": "display_data"
    }
   ],
   "source": [
    "import seaborn as sns\n",
    "import matplotlib.pyplot as plt\n",
    "import pandas as pd\n",
    "data = pd.DataFrame({'Category': ['Numpy'] * len(np_time) + ['Python'] * len(py_time),\n",
    "                     'Time': np.concatenate([np_time, py_time])})\n",
    "\n",
    "\n",
    "plt.figure(figsize=(4, 3))\n",
    "sns.set_style(\"whitegrid\")\n",
    "sns.boxplot(data=data, x='Category', y='Time',palette=\"Set3\", width=0.4)\n",
    "plt.title('Comparison of Numpy and Python')\n",
    "plt.xlabel('')\n",
    "plt.ylabel('Time')\n",
    "plt.show()"
   ]
  }
 ],
 "metadata": {
  "kernelspec": {
   "display_name": "base",
   "language": "python",
   "name": "python3"
  },
  "language_info": {
   "codemirror_mode": {
    "name": "ipython",
    "version": 3
   },
   "file_extension": ".py",
   "mimetype": "text/x-python",
   "name": "python",
   "nbconvert_exporter": "python",
   "pygments_lexer": "ipython3",
   "version": "3.11.5"
  }
 },
 "nbformat": 4,
 "nbformat_minor": 5
}
