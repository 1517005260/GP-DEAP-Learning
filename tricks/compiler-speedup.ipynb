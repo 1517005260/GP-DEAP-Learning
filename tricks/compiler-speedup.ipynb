{
 "cells": [
  {
   "cell_type": "markdown",
   "id": "8db4ada5ce6ebf73",
   "metadata": {},
   "source": [
    "### 低开销编译器\n",
    "DEAP在编译GP时使用了Python的默认编译器，但是Python默认编译器在编译GP时实际上速度较慢，因此我们可以考虑自行实现一个编译器来加速GP运算。更严格来说，应该是自行实现一个GP树的解析函数，从而降低编译的时间开销。"
   ]
  },
  {
   "cell_type": "code",
   "execution_count": 1,
   "id": "initial_id",
   "metadata": {
    "ExecuteTime": {
     "end_time": "2023-12-25T02:37:08.047926400Z",
     "start_time": "2023-12-25T02:37:08.020758200Z"
    }
   },
   "outputs": [],
   "source": [
    "import time\n",
    "import warnings\n",
    "\n",
    "import numpy as np\n",
    "from deap import base, creator, tools, gp\n",
    "from deap.gp import PrimitiveTree, Primitive, Terminal\n",
    "\n",
    "warnings.filterwarnings(\"ignore\")\n",
    "\n",
    "# 栈的经典应用，详见leetcode逆波兰表达式\n",
    "def quick_evaluate(expr: PrimitiveTree, pset, data, prefix='ARG'):\n",
    "    result = None\n",
    "    stack = []\n",
    "    for node in expr:\n",
    "        stack.append((node, []))\n",
    "        while len(stack[-1][1]) == stack[-1][0].arity:\n",
    "            prim, args = stack.pop()\n",
    "            if isinstance(prim, Primitive):\n",
    "                result = pset.context[prim.name](*args)\n",
    "            elif isinstance(prim, Terminal):\n",
    "                if prefix in prim.name:\n",
    "                    result = data[:, int(prim.name.replace(prefix, ''))]\n",
    "                else:\n",
    "                    result = prim.value\n",
    "            else:\n",
    "                raise Exception\n",
    "            if len(stack) == 0:\n",
    "                break  # 栈为空代表所有节点都已经被访问\n",
    "            stack[-1][1].append(result)\n",
    "    return result\n",
    "\n",
    "\n",
    "# 符号回归\n",
    "def evalSymbReg(individual, pset):\n",
    "    # 使用numpy创建一个向量\n",
    "    x = np.linspace(-10, 10, 100).reshape(-1, 1)\n",
    "\n",
    "    # 评估生成的函数并计算MSE\n",
    "    mse = np.mean((quick_evaluate(individual, pset, x) - x ** 2) ** 2)\n",
    "\n",
    "    return (mse,)\n",
    "\n",
    "\n",
    "# 创建个体和适应度函数\n",
    "creator.create(\"FitnessMin\", base.Fitness, weights=(-1.0,))\n",
    "creator.create(\"Individual\", gp.PrimitiveTree, fitness=creator.FitnessMin)"
   ]
  },
  {
   "cell_type": "code",
   "execution_count": 2,
   "id": "cb6cf38094256262",
   "metadata": {
    "ExecuteTime": {
     "end_time": "2023-12-25T02:37:08.054440500Z",
     "start_time": "2023-12-25T02:37:08.049951400Z"
    }
   },
   "outputs": [],
   "source": [
    "import random\n",
    "\n",
    "# 定义函数集合和终端集合\n",
    "pset = gp.PrimitiveSet(\"MAIN\", arity=1)\n",
    "pset.addPrimitive(np.add, 2)\n",
    "pset.addPrimitive(np.subtract, 2)\n",
    "pset.addPrimitive(np.multiply, 2)\n",
    "pset.addPrimitive(np.negative, 1)\n",
    "pset.addEphemeralConstant(\"rand101\", lambda: random.randint(-1, 1))\n",
    "\n",
    "# 定义遗传编程操作\n",
    "toolbox = base.Toolbox()\n",
    "toolbox.register(\"expr\", gp.genHalfAndHalf, pset=pset, min_=1, max_=2)\n",
    "toolbox.register(\"individual\", tools.initIterate, creator.Individual, toolbox.expr)\n",
    "toolbox.register(\"population\", tools.initRepeat, list, toolbox.individual)\n",
    "toolbox.register(\"compile\", gp.compile, pset=pset)\n",
    "toolbox.register(\"evaluate\", evalSymbReg, pset=pset)\n",
    "toolbox.register(\"select\", tools.selTournament, tournsize=3)\n",
    "toolbox.register(\"mate\", gp.cxOnePoint)\n",
    "toolbox.register(\"mutate\", gp.mutUniform, expr=toolbox.expr, pset=pset)"
   ]
  },
  {
   "cell_type": "code",
   "execution_count": 3,
   "id": "88c62bc071d56191",
   "metadata": {
    "ExecuteTime": {
     "end_time": "2023-12-25T02:37:08.226956400Z",
     "start_time": "2023-12-25T02:37:08.054649800Z"
    }
   },
   "outputs": [
    {
     "name": "stdout",
     "output_type": "stream",
     "text": [
      "   \t      \t                    fitness                    \t                     size                     \n",
      "   \t      \t-----------------------------------------------\t----------------------------------------------\n",
      "gen\tnevals\tavg    \tgen\tmax    \tmin    \tnevals\tstd    \tavg \tgen\tmax\tmin\tnevals\tstd   \n",
      "0  \t100   \t2418.41\t0  \t26131.2\t1849.78\t100   \t2462.38\t3.83\t0  \t7  \t2  \t100   \t1.5624\n",
      "1  \t92    \t2156.48\t1  \t6509.62\t1849.78\t92    \t616.277\t3.9 \t1  \t10 \t2  \t92    \t1.62788\n",
      "2  \t92    \t2088.3 \t2  \t5780.9 \t1849.78\t92    \t383.649\t4.17\t2  \t9  \t2  \t92    \t1.55599\n",
      "3  \t96    \t5255.65\t3  \t153712 \t1849.78\t96    \t21254  \t4.65\t3  \t11 \t2  \t96    \t1.95128\n",
      "4  \t89    \t142391 \t4  \t1.23222e+07\t1849.78\t89    \t1.23218e+06\t5.3 \t4  \t13 \t2  \t89    \t1.90526\n",
      "5  \t89    \t125796 \t5  \t1.18875e+07\t1849.78\t89    \t1.18237e+06\t5.26\t5  \t11 \t2  \t89    \t1.75852\n",
      "6  \t90    \t11231.5\t6  \t157909     \t1849.78\t90    \t36181      \t5.03\t6  \t12 \t3  \t90    \t1.94142\n",
      "7  \t92    \t16040.2\t7  \t158106     \t1849.78\t92    \t43625.5    \t4.61\t7  \t11 \t3  \t92    \t1.94882\n",
      "8  \t90    \t8080.75\t8  \t153712     \t1849.78\t90    \t29733.7    \t3.99\t8  \t11 \t3  \t90    \t1.60309\n",
      "9  \t85    \t6524.81\t9  \t153712     \t1849.78\t85    \t25878.4    \t3.68\t9  \t11 \t2  \t85    \t1.54195\n",
      "10 \t99    \t3481.22\t10 \t153712     \t1849.78\t99    \t15112.8    \t3.36\t10 \t7  \t3  \t99    \t0.932952\n",
      "time: 0.055577754974365234\n",
      "multiply(ARG0, ARG0)\n",
      "   \t      \t                    fitness                    \t                      size                     \n",
      "   \t      \t-----------------------------------------------\t-----------------------------------------------\n",
      "gen\tnevals\tavg    \tgen\tmax   \tmin    \tnevals\tstd    \tavg \tgen\tmax\tmin\tnevals\tstd    \n",
      "0  \t100   \t3754.23\t0  \t153712\t1849.78\t100   \t15090.6\t4.15\t0  \t7  \t2  \t100   \t1.60857\n",
      "1  \t91    \t3804.4 \t1  \t153712\t1849.78\t91    \t15133.9\t4.42\t1  \t11 \t2  \t91    \t1.9656 \n",
      "2  \t91    \t5186.55\t2  \t153712\t1849.78\t91    \t20695.7\t4.61\t2  \t11 \t2  \t91    \t1.96924\n",
      "3  \t93    \t6627.22\t3  \t153712\t1849.78\t93    \t25636.2\t4.7 \t3  \t10 \t3  \t93    \t1.86279\n",
      "4  \t95    \t6774.63\t4  \t157909\t1849.78\t95    \t26107  \t4.47\t4  \t9  \t2  \t95    \t1.74617\n",
      "5  \t98    \t8141.67\t5  \t153712\t1849.78\t98    \t29713.4\t4.19\t5  \t9  \t3  \t98    \t1.56649\n",
      "6  \t92    \t5159.69\t6  \t153712\t1849.78\t92    \t21266.5\t3.59\t6  \t11 \t3  \t92    \t1.29688\n",
      "7  \t89    \t3478.84\t7  \t153712\t1849.78\t89    \t15113  \t3.53\t7  \t9  \t3  \t89    \t1.22845\n",
      "8  \t95    \t12496.7\t8  \t608604\t1849.78\t95    \t65268.8\t3.44\t8  \t9  \t2  \t95    \t1.18592\n",
      "9  \t91    \t8178.81\t9  \t153712\t1849.78\t91    \t29712.1\t3.79\t9  \t9  \t2  \t91    \t1.60807\n",
      "10 \t92    \t8032.72\t10 \t153712\t1849.78\t92    \t29731.9\t3.72\t10 \t9  \t2  \t92    \t1.43583\n",
      "time: 0.05160379409790039\n",
      "multiply(ARG0, ARG0)\n",
      "   \t      \t                    fitness                    \t                      size                     \n",
      "   \t      \t-----------------------------------------------\t-----------------------------------------------\n",
      "gen\tnevals\tavg    \tgen\tmax   \tmin    \tnevals\tstd    \tavg \tgen\tmax\tmin\tnevals\tstd    \n",
      "0  \t100   \t3930.98\t0  \t153712\t1849.78\t100   \t15253.6\t3.86\t0  \t7  \t2  \t100   \t1.63719\n",
      "1  \t88    \t2277.67\t1  \t15032.6\t1849.78\t88    \t1414.67\t4.16\t1  \t11 \t2  \t88    \t2.03332\n",
      "2  \t100   \t3676.16\t2  \t153712 \t1849.78\t100   \t15092.2\t4.52\t2  \t11 \t2  \t100   \t1.98232\n",
      "3  \t86    \t5232.98\t3  \t158106 \t1849.78\t86    \t21831.7\t4.64\t3  \t9  \t2  \t86    \t1.8629 \n",
      "4  \t81    \t6967.55\t4  \t157978 \t1849.78\t81    \t26082.6\t5.38\t4  \t13 \t2  \t81    \t2.2126 \n",
      "5  \t92    \t5239.28\t5  \t158106 \t1849.78\t92    \t21522.6\t5.77\t5  \t13 \t2  \t92    \t2.34885\n",
      "6  \t99    \t5567.08\t6  \t157909 \t1849.78\t99    \t21219.5\t6.06\t6  \t14 \t2  \t99    \t2.92171\n",
      "7  \t88    \t8186.21\t7  \t153480 \t1849.78\t88    \t28855.9\t5.9 \t7  \t13 \t2  \t88    \t3.09031\n",
      "8  \t89    \t6637.51\t8  \t153480 \t1849.78\t89    \t25607.3\t7.19\t8  \t19 \t2  \t89    \t3.77013\n",
      "9  \t89    \t5415.45\t9  \t158106 \t1825.29\t89    \t21835.9\t8.17\t9  \t18 \t2  \t89    \t3.86537\n",
      "10 \t89    \t9994.53\t10 \t162173 \t1825.29\t89    \t32855  \t9.01\t10 \t20 \t2  \t89    \t4.29533\n",
      "time: 0.051383256912231445\n",
      "subtract(subtract(negative(-1), subtract(add(subtract(ARG0, multiply(-1, -1)), -1), ARG0)), -1)\n"
     ]
    }
   ],
   "source": [
    "import numpy\n",
    "from deap import algorithms\n",
    "\n",
    "# 定义统计指标\n",
    "stats_fit = tools.Statistics(lambda ind: ind.fitness.values)\n",
    "stats_size = tools.Statistics(len)\n",
    "mstats = tools.MultiStatistics(fitness=stats_fit, size=stats_size)\n",
    "mstats.register(\"avg\", numpy.mean)\n",
    "mstats.register(\"std\", numpy.std)\n",
    "mstats.register(\"min\", numpy.min)\n",
    "mstats.register(\"max\", numpy.max)\n",
    "\n",
    "# 使用默认算法\n",
    "custom_compiler_time = []\n",
    "for i in range(3):\n",
    "    start = time.time()\n",
    "    population = toolbox.population(n=100)\n",
    "    hof = tools.HallOfFame(1)\n",
    "    pop, log = algorithms.eaSimple(population=population,\n",
    "                                   toolbox=toolbox, cxpb=0.9, mutpb=0.1, ngen=10, stats=mstats, halloffame=hof,\n",
    "                                   verbose=True)\n",
    "    end = time.time()\n",
    "    print('time:', end - start)\n",
    "    print(str(hof[0]))\n",
    "    custom_compiler_time.append(end - start)"
   ]
  },
  {
   "cell_type": "code",
   "execution_count": 4,
   "id": "93e26be78cb63ef",
   "metadata": {
    "ExecuteTime": {
     "end_time": "2023-12-25T02:37:08.449160200Z",
     "start_time": "2023-12-25T02:37:08.228958300Z"
    }
   },
   "outputs": [
    {
     "name": "stdout",
     "output_type": "stream",
     "text": [
      "   \t      \t                          fitness                          \t                      size                     \n",
      "   \t      \t-----------------------------------------------------------\t-----------------------------------------------\n",
      "gen\tnevals\tavg   \tgen\tmax        \tmin\tnevals\tstd        \tavg \tgen\tmax\tmin\tnevals\tstd    \n",
      "0  \t100   \t119309\t0  \t1.17257e+07\t0  \t100   \t1.16649e+06\t3.97\t0  \t7  \t2  \t100   \t1.63985\n",
      "1  \t89    \t1986.56\t1  \t8325.39    \t0  \t89    \t851.977    \t4.08\t1  \t11 \t2  \t89    \t1.95284\n",
      "2  \t94    \t4916.05\t2  \t153712     \t0  \t94    \t21278      \t4.3 \t2  \t10 \t2  \t94    \t2.14243\n",
      "3  \t97    \t7837.99\t3  \t153712     \t0  \t97    \t29495.4    \t4.93\t3  \t14 \t2  \t97    \t2.28585\n",
      "4  \t96    \t4447.93\t4  \t155692     \t0  \t96    \t21511.4    \t5.68\t4  \t14 \t2  \t96    \t2.84211\n",
      "5  \t90    \t4436.47\t5  \t153712     \t0  \t90    \t21408.3    \t5.97\t5  \t14 \t2  \t90    \t3.06416\n",
      "6  \t93    \t11738.2\t6  \t153712     \t0  \t93    \t38823.1    \t5.67\t6  \t13 \t3  \t93    \t2.72784\n",
      "7  \t99    \t2715.7 \t7  \t153712     \t0  \t99    \t15415      \t4.7 \t7  \t14 \t2  \t99    \t2.68887\n",
      "8  \t85    \t3413.4 \t8  \t153712     \t0  \t85    \t21349.7    \t4.53\t8  \t16 \t2  \t85    \t3.10952\n",
      "9  \t93    \t5093.81\t9  \t153712     \t0  \t93    \t26171.1    \t4.61\t9  \t16 \t3  \t93    \t3.21526\n",
      "10 \t92    \t3450.58\t10 \t153712     \t0  \t92    \t21505      \t4.31\t10 \t14 \t3  \t92    \t2.60267\n",
      "time: 0.12139630317687988\n",
      "   \t      \t                    fitness                    \t                     size                    \n",
      "   \t      \t-----------------------------------------------\t---------------------------------------------\n",
      "gen\tnevals\tavg    \tgen\tmax    \tmin\tnevals\tstd    \tavg \tgen\tmax\tmin\tnevals\tstd  \n",
      "0  \t100   \t2138.51\t0  \t18868.1\t0  \t100   \t1764.48\t3.94\t0  \t7  \t2  \t100   \t1.696\n",
      "1  \t96    \t3466.5 \t1  \t153712 \t0  \t96    \t15127.3\t4.14\t1  \t9  \t2  \t96    \t1.59386\n",
      "2  \t90    \t4971.12\t2  \t153712 \t0  \t90    \t21267.5\t4.39\t2  \t10 \t2  \t90    \t1.86491\n",
      "3  \t93    \t1547.58\t3  \t2286.39\t0  \t93    \t912.495\t4.77\t3  \t11 \t2  \t93    \t1.8966 \n",
      "4  \t92    \t6087.95\t4  \t157909 \t0  \t92    \t26124.9\t5.11\t4  \t13 \t2  \t92    \t1.94368\n",
      "5  \t90    \t10668.7\t5  \t157909 \t0  \t90    \t36456.4\t5.04\t5  \t13 \t2  \t90    \t2.19964\n",
      "6  \t90    \t5702.32\t6  \t153712 \t0  \t90    \t25787.2\t4.25\t6  \t13 \t2  \t90    \t1.91507\n",
      "7  \t88    \t5159.69\t7  \t153712 \t0  \t88    \t26170.7\t3.73\t7  \t9  \t2  \t88    \t1.42025\n",
      "8  \t86    \t252.582\t8  \t2255.38\t0  \t86    \t681.183\t3.35\t8  \t7  \t2  \t86    \t1.04283\n",
      "9  \t92    \t3781.68\t9  \t157909 \t0  \t92    \t21849.2\t3.59\t9  \t12 \t3  \t92    \t1.56266\n",
      "10 \t92    \t1768.48\t10 \t153712 \t0  \t92    \t15285.1\t3.3 \t10 \t8  \t3  \t92    \t1.06301\n",
      "time: 0.11737751960754395\n",
      "   \t      \t                    fitness                    \t                      size                     \n",
      "   \t      \t-----------------------------------------------\t-----------------------------------------------\n",
      "gen\tnevals\tavg    \tgen\tmax   \tmin\tnevals\tstd    \tavg \tgen\tmax\tmin\tnevals\tstd    \n",
      "0  \t100   \t5340.19\t0  \t153712\t0  \t100   \t21294.8\t3.93\t0  \t7  \t2  \t100   \t1.62638\n",
      "1  \t90    \t1902.97\t1  \t2217.37\t0  \t90    \t599.688\t3.65\t1  \t7  \t2  \t90    \t1.4586 \n",
      "2  \t93    \t1939.51\t2  \t8325.39\t0  \t93    \t1358.35\t3.65\t2  \t9  \t2  \t93    \t1.34443\n",
      "3  \t92    \t1955.16\t3  \t8359.39\t0  \t92    \t1346.67\t3.83\t3  \t9  \t2  \t92    \t1.51694\n",
      "4  \t92    \t1831.36\t4  \t8461.41\t0  \t92    \t1600.35\t3.85\t4  \t11 \t2  \t92    \t1.70514\n",
      "5  \t90    \t2780.19\t5  \t155827 \t0  \t90    \t15431.7\t4.44\t5  \t13 \t3  \t90    \t2.28613\n",
      "6  \t94    \t3906.67\t6  \t159956 \t0  \t94    \t21909.8\t3.78\t6  \t10 \t3  \t94    \t1.57213\n",
      "7  \t89    \t4885.37\t7  \t153712 \t0  \t89    \t25713.2\t3.57\t7  \t11 \t2  \t89    \t1.42306\n",
      "8  \t91    \t2164.59\t8  \t153712 \t0  \t91    \t15346  \t3.5 \t8  \t9  \t2  \t91    \t1.28452\n",
      "9  \t88    \t120811 \t9  \t1.20269e+07\t0  \t88    \t1.19661e+06\t3.57\t9  \t9  \t3  \t88    \t1.40182\n",
      "10 \t94    \t1851.1 \t10 \t157909     \t0  \t94    \t15733.3    \t3.44\t10 \t9  \t3  \t94    \t1.28312\n",
      "time: 0.1137075424194336\n"
     ]
    }
   ],
   "source": [
    "# 慢速评估\n",
    "def evalSymbReg(individual, pset):\n",
    "    # 编译GP树为函数\n",
    "    func = gp.compile(expr=individual, pset=pset)\n",
    "\n",
    "    # 使用numpy创建一个向量\n",
    "    x = np.linspace(-10, 10, 100)\n",
    "\n",
    "    # 评估生成的函数并计算MSE\n",
    "    mse = np.mean((func(x) - x ** 2) ** 2)\n",
    "\n",
    "    return (mse,)\n",
    "\n",
    "\n",
    "toolbox.register(\"evaluate\", evalSymbReg, pset=pset)\n",
    "\n",
    "py_time = []\n",
    "for i in range(3):\n",
    "    start = time.time()\n",
    "    population = toolbox.population(n=100)\n",
    "    hof = tools.HallOfFame(1)\n",
    "    pop, log = algorithms.eaSimple(population=population,\n",
    "                                   toolbox=toolbox, cxpb=0.9, mutpb=0.1, ngen=10, stats=mstats, halloffame=hof,\n",
    "                                   verbose=True)\n",
    "    end = time.time()\n",
    "    print('time:', end - start)\n",
    "    py_time.append(end - start)"
   ]
  },
  {
   "cell_type": "markdown",
   "id": "8c746d5032e852bb",
   "metadata": {},
   "source": [
    "下图展示了实验结果，从实验结果可以看出，自行实现的编译器在编译GP树时的速度要快于Python默认编译器。主要是因为自行实现的编译器基本没有额外开销，而Python默认编译器在编译时会进行一些额外的操作，因此速度较慢。"
   ]
  },
  {
   "cell_type": "code",
   "execution_count": 5,
   "id": "c6e9fb08c172a7f0",
   "metadata": {
    "ExecuteTime": {
     "end_time": "2023-12-25T02:37:08.749483500Z",
     "start_time": "2023-12-25T02:37:08.450148200Z"
    }
   },
   "outputs": [
    {
     "data": {
      "image/png": "[encoded data removed]",
      "text/plain": [
       "<Figure size 400x300 with 1 Axes>"
      ]
     },
     "metadata": {},
     "output_type": "display_data"
    }
   ],
   "source": [
    "import seaborn as sns\n",
    "import matplotlib.pyplot as plt\n",
    "import pandas as pd\n",
    "\n",
    "data = pd.DataFrame(\n",
    "    {'Category': ['Efficient Compiler'] * len(custom_compiler_time) + ['Python Compiler'] * len(py_time),\n",
    "     'Time': np.concatenate([custom_compiler_time, py_time])})\n",
    "\n",
    "plt.figure(figsize=(4, 3))\n",
    "sns.set_style(\"whitegrid\")\n",
    "sns.boxplot(data=data, x='Category', y='Time', palette=\"Set3\", width=0.4)\n",
    "plt.title('Comparison of Efficient Compiler and Python Compiler')\n",
    "plt.xlabel('')\n",
    "plt.ylabel('Time')\n",
    "plt.show()"
   ]
  }
 ],
 "metadata": {
  "kernelspec": {
   "display_name": "base",
   "language": "python",
   "name": "python3"
  },
  "language_info": {
   "codemirror_mode": {
    "name": "ipython",
    "version": 3
   },
   "file_extension": ".py",
   "mimetype": "text/x-python",
   "name": "python",
   "nbconvert_exporter": "python",
   "pygments_lexer": "ipython3",
   "version": "3.11.5"
  }
 },
 "nbformat": 4,
 "nbformat_minor": 5
}
